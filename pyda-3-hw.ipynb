{
 "cells": [
  {
   "cell_type": "markdown",
   "metadata": {},
   "source": [
    "## Задание 1"
   ]
  },
  {
   "cell_type": "markdown",
   "metadata": {},
   "source": [
    "Дан список вида:"
   ]
  },
  {
   "cell_type": "code",
   "execution_count": null,
   "metadata": {},
   "outputs": [],
   "source": [
    "data = [\n",
    "    [13, 25, 23, 34],\n",
    "    [45, 32, 44, 47],\n",
    "    [12, 33, 23, 95],\n",
    "    [13, 53, 34, 35]\n",
    "]"
   ]
  },
  {
   "cell_type": "markdown",
   "metadata": {},
   "source": [
    "Напишите функцию, которая возвращает сумму элементов на диагонали. Т. е. 13+32+23+35."
   ]
  },
  {
   "cell_type": "code",
   "execution_count": null,
   "metadata": {},
   "outputs": [],
   "source": [
    "def sum_diagonal(data_list):\n",
    "    result = 0\n",
    "    index = 0\n",
    "    while index < len(data_list):\n",
    "        result += data_list[index][index]\n",
    "        index += 1\n",
    "    return result\n",
    "\n",
    "sum_diagonal(data)"
   ]
  },
  {
   "cell_type": "markdown",
   "metadata": {},
   "source": [
    "## Задание 2"
   ]
  },
  {
   "cell_type": "markdown",
   "metadata": {},
   "source": [
    "Дан список чисел, часть из которых имеют строковый тип или содержат буквы. Напишите функцию, которая возвращает сумму квадратов элементов, которые могут быть числами."
   ]
  },
  {
   "cell_type": "code",
   "execution_count": null,
   "metadata": {},
   "outputs": [],
   "source": [
    "def sum_sqrt(data_list):\n",
    "    result = 0\n",
    "    for element in data_list:\n",
    "        if(isinstance(element, int)):\n",
    "            result += element**2\n",
    "    return result\n",
    "    \n",
    "data = [1, '5', 'abc', 20, '2']\n",
    "sum_sqrt(data)"
   ]
  },
  {
   "cell_type": "markdown",
   "metadata": {},
   "source": [
    "## Задание 3"
   ]
  },
  {
   "cell_type": "markdown",
   "metadata": {},
   "source": [
    "Напишите функцию, возвращающую сумму первых n чисел Фибоначчи."
   ]
  },
  {
   "cell_type": "code",
   "execution_count": null,
   "metadata": {},
   "outputs": [],
   "source": [
    "def fibonachi(i):\n",
    "    \"\"\"\n",
    "    Получение i-го элемента последовательности Фибоначчи\n",
    "    \n",
    "    \"\"\"\n",
    "    \n",
    "    if(i == 0 | i == 1):\n",
    "        return 0\n",
    "    elif(i == 2):\n",
    "        return 1\n",
    "    else:\n",
    "        return fibonachi(i-1) + fibonachi(i-2)\n",
    "\n",
    "input_data = int(input('Сколько чисел из последовательности Фибоначчи нужно сложить? '))\n",
    "if(input_data > 0):\n",
    "    numbers = list()\n",
    "    index = 1\n",
    "    while index <= input_data:\n",
    "        numbers.append(fibonachi(index))\n",
    "        index += 1\n",
    "        \n",
    "    summa = 0\n",
    "    for number in numbers: summa += number\n",
    "    print(summa)\n",
    "else:\n",
    "    print('Введите число больше нуля')"
   ]
  },
  {
   "cell_type": "markdown",
   "metadata": {},
   "source": [
    "# Задание 4"
   ]
  },
  {
   "cell_type": "markdown",
   "metadata": {},
   "source": [
    "Дан набор данных об обучении студентов на курсе программирования, который содержит: \n",
    "1) имя\n",
    "2) фамилию \n",
    "3) пол \n",
    "4) наличие у студента опыта в программировании \n",
    "5) набор оценок за домашние работы \n",
    "6) оценку за итоговую работу.\n",
    "\n",
    "Напишите программу, которая будет принимать команду от пользователя и возвращать соотвествующий результат.\n",
    "Список команд: \n",
    "1 - вывести на экран среднюю оценку за все ДЗ по группе и вывести на экран среднюю оценку за экзамен по группе;\n",
    "2 - вывести среднюю оценку за ДЗ и за экзамен по группе в разрезе пола студентов\n",
    "3 - вывести среднюю оценку за ДЗ и за экзамен в разрезе наличия опыта в программировании у студентов.\n",
    "\n",
    "Прогрмма должна быть полностью декомпозирована на функции (кроме объявления функций и вызова итоговой функции в реализации ничего быть не должно)."
   ]
  },
  {
   "cell_type": "code",
   "execution_count": 1,
   "metadata": {},
   "outputs": [],
   "source": [
    "students_list = [\n",
    "    {'name': 'Василий', 'surname': 'Теркин', 'sex': 'м', 'program_exp': True, 'grade': [8, 8, 9, 10, 9], 'exam': 9},\n",
    "    {'name': 'Мария', 'surname': 'Павлова', 'sex': 'ж', 'program_exp': True, 'grade': [7, 8, 9, 7, 9], 'exam': 8},\n",
    "    {'name': 'Ирина', 'surname': 'Андреева', 'sex': 'ж', 'program_exp': True, 'grade': [10, 9, 8, 10, 10], 'exam': 10},\n",
    "    {'name': 'Татьяна', 'surname': 'Сидорова', 'sex': 'ж', 'program_exp': True, 'grade': [7, 8, 8, 9, 8], 'exam': 8},\n",
    "    {'name': 'Иван', 'surname': 'Васильев', 'sex': 'ж', 'program_exp': True, 'grade': [9, 8, 9, 6, 9], 'exam': 10},\n",
    "    {'name': 'Роман', 'surname': 'Золотарев', 'sex': 'ж', 'program_exp': False, 'grade': [8, 9, 9, 6, 9], 'exam': 10}\n",
    "]"
   ]
  },
  {
   "cell_type": "code",
   "execution_count": 49,
   "metadata": {},
   "outputs": [
    {
     "name": "stdout",
     "output_type": "stream",
     "text": [
      "Укажите номер команды, по которой необходимо вывести данные:\n",
      "\t1. Средняя оценка за все ДЗ и экзамен.\n",
      "\t2. Средняя оценка за все ДЗ и экзамен в разрезе пола.\n",
      "\t3. Средняя оценка за все ДЗ и экзамен в разрезе наличия опыта в программировании.\n",
      "2\n",
      "Средние оценки у студентов мужского пола:\n",
      "\tСредняя оценка за все ДЗ: 8.8\n",
      "\tСредняя оценка за экзамен: 9.0\n",
      "Средние оценки у студентов женского пола:\n",
      "\tСредняя оценка за все ДЗ: 8.36\n",
      "\tСредняя оценка за экзамен: 9.2\n"
     ]
    }
   ],
   "source": [
    "def print_average_grade(students_data):\n",
    "    grades_sum = 0\n",
    "    grades_count = 0\n",
    "    exam_sum = 0\n",
    "    exam_count = 0\n",
    "    for student_data in students_data:\n",
    "        grades_sum += sum(student_data['grade'])\n",
    "        grades_count += len(student_data['grade'])\n",
    "        exam_sum += student_data['exam']\n",
    "        exam_count += 1\n",
    "    if(grades_count):\n",
    "        print(f'\\tСредняя оценка за все ДЗ: {round(grades_sum / grades_count, 2)}')\n",
    "    else:\n",
    "        print(f'\\tОценок за ДЗ не найдено')\n",
    "    if(exam_count):\n",
    "        print(f'\\tСредняя оценка за экзамен: {round(exam_sum / exam_count, 2)}')\n",
    "    else:\n",
    "        print(f'\\tОценок за экзамен не найдено')    \n",
    "        \n",
    "def command_1(students_list):\n",
    "    \"\"\"\n",
    "    Вывод средней оценки за все ДЗ и экзамен\n",
    "    \n",
    "    \"\"\"\n",
    "    print('Средние оценки в разрезе всей группы:')\n",
    "    print_average_grade(students_list)\n",
    "\n",
    "    \n",
    "def command_2(students_list):\n",
    "    \"\"\"\n",
    "    Вывод средней оценки в разрезе пола студентов\n",
    "    \n",
    "    \"\"\"\n",
    "    print('Средние оценки у студентов мужского пола:')\n",
    "    print_average_grade(list(filter(lambda x: x['sex'] == 'м', students_list)))\n",
    "    print('Средние оценки у студентов женского пола:')\n",
    "    print_average_grade(list(filter(lambda x: x['sex'] == 'ж', students_list)))\n",
    "\n",
    "    \n",
    "def command_3(students_list):\n",
    "    \"\"\"\n",
    "    Вывод средней оценки в разрезе наличия опыта программирования\n",
    "    \n",
    "    \"\"\"\n",
    "    print('Средние оценки у имеющих опыт программирования:')\n",
    "    print_average_grade(list(filter(lambda x: x['program_exp'] == True, students_list)))\n",
    "    print('Средние оценки у студентов женского пола:')\n",
    "    print_average_grade(list(filter(lambda x: x['program_exp'] == False, students_list)))   \n",
    "\n",
    "def process_user_input():\n",
    "    commands = {\n",
    "        1: (command_1, 'Средняя оценка за все ДЗ и экзамен'),\n",
    "        2: (command_2, 'Средняя оценка за все ДЗ и экзамен в разрезе пола'),\n",
    "        3: (command_3, 'Средняя оценка за все ДЗ и экзамен в разрезе наличия опыта в программировании')\n",
    "    }\n",
    "    \n",
    "    print('Укажите номер команды, по которой необходимо вывести данные:')\n",
    "    for key in commands.keys():\n",
    "        print(f'\\t{key}. {commands[key][1]}.')\n",
    "    \n",
    "    return int(input())\n",
    "\n",
    "def main():\n",
    "    \"\"\"\n",
    "    Точка входа в программу\n",
    "    \n",
    "    \"\"\"\n",
    "    global commands\n",
    "    \n",
    "    command = process_user_input()\n",
    "    if(command not in commands):\n",
    "        print('Неизвестная команда, вывод данных невозможен')\n",
    "    else:\n",
    "        commands[command][0](students_list)\n",
    "    \n",
    "    return None\n",
    "\n",
    "\n",
    "main()"
   ]
  }
 ],
 "metadata": {
  "kernelspec": {
   "display_name": "Python 3",
   "language": "python",
   "name": "python3"
  },
  "language_info": {
   "codemirror_mode": {
    "name": "ipython",
    "version": 3
   },
   "file_extension": ".py",
   "mimetype": "text/x-python",
   "name": "python",
   "nbconvert_exporter": "python",
   "pygments_lexer": "ipython3",
   "version": "3.7.3"
  }
 },
 "nbformat": 4,
 "nbformat_minor": 2
}
