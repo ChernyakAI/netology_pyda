{
 "cells": [
  {
   "cell_type": "code",
   "execution_count": 33,
   "metadata": {},
   "outputs": [
    {
     "name": "stdout",
     "output_type": "stream",
     "text": [
      "Введите количество элементов массива: 10\n",
      "[9 8 7 6 5 4 3 2 1 0]\n"
     ]
    }
   ],
   "source": [
    "\"\"\"\n",
    "    Задание 1\n",
    "    Создайте numpy array с элементами от числа N до 0 (например, для N = 10 это будет array([9, 8, 7, 6, 5, 4, 3, 2, 1, 0])).\n",
    "\"\"\"\n",
    "\n",
    "import numpy as np\n",
    "\n",
    "def is_integer(value):\n",
    "    try:\n",
    "        int(value)\n",
    "        return True\n",
    "    except ValueError:\n",
    "        return False\n",
    "\n",
    "\n",
    "n = input('Введите количество элементов массива: ')\n",
    "if is_integer(n):\n",
    "    array = np.arange(0,int(n))[::-1] \n",
    "    print(array)\n",
    "else:\n",
    "    print('Указанное значение не является корректным')"
   ]
  },
  {
   "cell_type": "code",
   "execution_count": 86,
   "metadata": {
    "scrolled": true
   },
   "outputs": [
    {
     "name": "stdout",
     "output_type": "stream",
     "text": [
      "Введите количество элементов матрицы: 5\n",
      "10\n"
     ]
    }
   ],
   "source": [
    "\"\"\"\n",
    "    Задание 2\n",
    "    Создайте диагональную матрицу с элементами от N до 0. Посчитайте сумму ее значений на диагонали.\n",
    "\"\"\"\n",
    "\n",
    "import numpy as np\n",
    "\n",
    "def is_integer(value):\n",
    "    try:\n",
    "        int(value)\n",
    "        return True\n",
    "    except ValueError:\n",
    "        return False\n",
    "\n",
    "n = input('Введите количество элементов матрицы: ')\n",
    "if is_integer(n):\n",
    "    \n",
    "    array = np.diag(np.arange(0,int(n))[::-1], k=0)\n",
    "    print(np.sum(array))\n",
    "    \n",
    "else:\n",
    "    print('Указанное значение не является корректным')"
   ]
  },
  {
   "cell_type": "code",
   "execution_count": 94,
   "metadata": {},
   "outputs": [
    {
     "data": {
      "text/plain": [
       "array([ 0.46666667,  3.84444444, -5.55555556])"
      ]
     },
     "execution_count": 94,
     "metadata": {},
     "output_type": "execute_result"
    }
   ],
   "source": [
    "\"\"\"\n",
    "    Задание 3\n",
    "    Решите систему уравнений:\n",
    "    4x + 2y + z = 4\n",
    "    x + 3y = 12\n",
    "    5y + 4z = -3\n",
    "\"\"\"\n",
    "\n",
    "import numpy as np\n",
    "\n",
    "a = np.array([[4, 2, 1], [1, 3, 0], [0, 5, 4]])\n",
    "b = np.array([4, 12, -3])\n",
    "\n",
    "np.linalg.solve(a, b)"
   ]
  }
 ],
 "metadata": {
  "kernelspec": {
   "display_name": "Python 3",
   "language": "python",
   "name": "python3"
  },
  "language_info": {
   "codemirror_mode": {
    "name": "ipython",
    "version": 3
   },
   "file_extension": ".py",
   "mimetype": "text/x-python",
   "name": "python",
   "nbconvert_exporter": "python",
   "pygments_lexer": "ipython3",
   "version": "3.7.3"
  }
 },
 "nbformat": 4,
 "nbformat_minor": 2
}
