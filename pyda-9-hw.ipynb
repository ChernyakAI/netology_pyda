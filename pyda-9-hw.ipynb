{
 "cells": [
  {
   "cell_type": "code",
   "execution_count": 1,
   "metadata": {},
   "outputs": [
    {
     "name": "stdout",
     "output_type": "stream",
     "text": [
      "Введите дату начала в формате YYYY-MM-DD: 2019-01-01\n",
      "Введите дату окончания в формате YYYY-MM-DD: 2019-01-03\n",
      "2019-01-02\n"
     ]
    }
   ],
   "source": [
    "\"\"\"\n",
    "    Задание 1\n",
    "    Напишите функцию date_range, которая возвращает список дней между датами start_date и end_date.\n",
    "    Даты должны вводиться в формате YYYY-MM-DD.\n",
    "\"\"\"\n",
    "\n",
    "import datetime\n",
    "\n",
    "def date_range(entered_start_date, entered_end_date):\n",
    "    \n",
    "    result_list = []\n",
    "    start_date = datetime.datetime.strptime(entered_start_date, '%Y-%m-%d')\n",
    "    end_date = datetime.datetime.strptime(entered_end_date, '%Y-%m-%d')\n",
    "    \n",
    "    count_days = (end_date - start_date).days - 1\n",
    "    while count_days > 0:\n",
    "        result_list.append(end_date + datetime.timedelta(days=-count_days))\n",
    "        count_days -= 1\n",
    "    return result_list\n",
    "\n",
    "    \n",
    "entered_start_date = input('Введите дату начала в формате YYYY-MM-DD: ')\n",
    "entered_end_date = input('Введите дату окончания в формате YYYY-MM-DD: ')\n",
    "\n",
    "days = date_range(entered_start_date, entered_end_date)\n",
    "for i in days:\n",
    "    print(i.strftime('%Y-%m-%d'))"
   ]
  },
  {
   "cell_type": "code",
   "execution_count": 2,
   "metadata": {},
   "outputs": [
    {
     "name": "stdout",
     "output_type": "stream",
     "text": [
      "Введите дату начала в формате YYYY-MM-DD: 2019-01-01\n",
      "Введите дату окончания в формате YYYY-MM-DD: 2019-01-31\n",
      "2019-01-02\n",
      "2019-01-03\n",
      "2019-01-04\n",
      "2019-01-05\n",
      "2019-01-06\n",
      "2019-01-07\n",
      "2019-01-08\n",
      "2019-01-09\n",
      "2019-01-10\n",
      "2019-01-11\n",
      "2019-01-12\n",
      "2019-01-13\n",
      "2019-01-14\n",
      "2019-01-15\n",
      "2019-01-16\n",
      "2019-01-17\n",
      "2019-01-18\n",
      "2019-01-19\n",
      "2019-01-20\n",
      "2019-01-21\n",
      "2019-01-22\n",
      "2019-01-23\n",
      "2019-01-24\n",
      "2019-01-25\n",
      "2019-01-26\n",
      "2019-01-27\n",
      "2019-01-28\n",
      "2019-01-29\n",
      "2019-01-30\n"
     ]
    }
   ],
   "source": [
    "\"\"\"\n",
    "    Задание 2\n",
    "    Дополните функцию из первого задания проверкой на корректность дат.\n",
    "    В случае неверного формата или если start_date > end_date должен возвращаться пустой список.\n",
    "\"\"\"\n",
    "\n",
    "import datetime\n",
    "\n",
    "def date_range(entered_start_date, entered_end_date):\n",
    "    \n",
    "    result_list = []\n",
    "    start_date = None\n",
    "    end_date = None\n",
    "    \n",
    "    try:\n",
    "        start_date = datetime.datetime.strptime(entered_start_date, '%Y-%m-%d')\n",
    "    except:\n",
    "        print(f'Значение {entered_start_date} указано неправильно')\n",
    "        return result_list\n",
    "\n",
    "    try:\n",
    "        end_date = datetime.datetime.strptime(entered_end_date, '%Y-%m-%d')\n",
    "    except:\n",
    "        print(f'Значение {entered_end_date} указано неправильно')\n",
    "        return result_list\n",
    "    \n",
    "    if start_date > end_date:\n",
    "        print('Посчитать количество дней невозможно. Дата окончания должна быть больше даты начала.')\n",
    "        return result_list\n",
    "    \n",
    "    count_days = (end_date - start_date).days - 1\n",
    "    while count_days > 0:\n",
    "        result_list.append(end_date + datetime.timedelta(days=-count_days))\n",
    "        count_days -= 1\n",
    "    return result_list\n",
    "\n",
    "    \n",
    "entered_start_date = input('Введите дату начала в формате YYYY-MM-DD: ')\n",
    "entered_end_date = input('Введите дату окончания в формате YYYY-MM-DD: ')\n",
    "\n",
    "days = date_range(entered_start_date, entered_end_date)\n",
    "for i in days:\n",
    "    print(i.strftime('%Y-%m-%d'))"
   ]
  },
  {
   "cell_type": "code",
   "execution_count": null,
   "metadata": {},
   "outputs": [],
   "source": [
    "\"\"\"\n",
    "Задание 3\n",
    "    Дан поток дат в формате YYYY-MM-DD, в которых встречаются некорректные значения:\n",
    "    stream = [‘2018-04-02’, ‘2018-02-29’, ‘2018-19-02’]\n",
    "\n",
    "    Напишите функцию, которая проверяет эти даты на корректность.\n",
    "    Т. е. для каждой даты возвращает True (дата корректна) или False (некорректная дата).\n",
    "\"\"\""
   ]
  },
  {
   "cell_type": "code",
   "execution_count": 3,
   "metadata": {},
   "outputs": [
    {
     "name": "stdout",
     "output_type": "stream",
     "text": [
      "2018-04-02: True\n",
      "2018-02-29: False\n",
      "2018-19-02: False\n"
     ]
    }
   ],
   "source": [
    "import datetime\n",
    "\n",
    "def check_date(date_string):\n",
    "    try:\n",
    "        datetime.datetime.strptime(date_string, '%Y-%m-%d')\n",
    "        return True\n",
    "    except:\n",
    "        return False\n",
    "\n",
    "\n",
    "stream = ['2018-04-02', '2018-02-29', '2018-19-02']\n",
    "for i in stream:\n",
    "    print(f'{i}: {check_date(i)}')"
   ]
  },
  {
   "cell_type": "code",
   "execution_count": null,
   "metadata": {},
   "outputs": [],
   "source": [
    "\"\"\"\n",
    "    Задание 5\n",
    "    В последнем примере поиска по словарю мы использовали 3 столбца.\n",
    "    Напишите функцию, которая формирует словарь для поиска по n столбцам.\n",
    "\"\"\""
   ]
  },
  {
   "cell_type": "code",
   "execution_count": 4,
   "metadata": {},
   "outputs": [],
   "source": [
    "def make_dict(file, num_cols):\n",
    "    \n",
    "    print(num_cols)\n",
    "    result = {}\n",
    "    for row in file:\n",
    "        row = row.strip().split(',')\n",
    "        result[tuple(row[:num_cols])] = row[num_cols:]\n",
    "        \n",
    "    return result"
   ]
  },
  {
   "cell_type": "code",
   "execution_count": 5,
   "metadata": {},
   "outputs": [
    {
     "name": "stdout",
     "output_type": "stream",
     "text": [
      "2\n",
      "('14', '26376') ['3', '13301']\n"
     ]
    },
    {
     "data": {
      "text/plain": [
       "['3', '39156']"
      ]
     },
     "execution_count": 5,
     "metadata": {},
     "output_type": "execute_result"
    }
   ],
   "source": [
    "# два элемента\n",
    "line_to_find = ('20', '20552')\n",
    "\n",
    "with open('stats.csv') as f:\n",
    "    stats_dict = make_dict(f, len(line_to_find))\n",
    "    \n",
    "for key, value in stats_dict.items():\n",
    "    print(key, value)\n",
    "    break\n",
    "\n",
    "cost = stats_dict[line_to_find]\n",
    "cost"
   ]
  },
  {
   "cell_type": "code",
   "execution_count": null,
   "metadata": {},
   "outputs": [],
   "source": []
  },
  {
   "cell_type": "code",
   "execution_count": 6,
   "metadata": {},
   "outputs": [
    {
     "name": "stdout",
     "output_type": "stream",
     "text": [
      "1\n",
      "('14',) ['3946', '3', '54274']\n"
     ]
    },
    {
     "data": {
      "text/plain": [
       "['26344', '2', '81208']"
      ]
     },
     "execution_count": 6,
     "metadata": {},
     "output_type": "execute_result"
    }
   ],
   "source": [
    "# один элемент\n",
    "line_to_find = ('20',)\n",
    "\n",
    "with open('stats.csv') as f:\n",
    "    stats_dict = make_dict(f, len(line_to_find))\n",
    "    \n",
    "for key, value in stats_dict.items():\n",
    "    print(key, value)\n",
    "    break\n",
    "    \n",
    "cost = stats_dict[line_to_find]\n",
    "cost"
   ]
  },
  {
   "cell_type": "code",
   "execution_count": null,
   "metadata": {},
   "outputs": [],
   "source": []
  }
 ],
 "metadata": {
  "kernelspec": {
   "display_name": "Python 3",
   "language": "python",
   "name": "python3"
  },
  "language_info": {
   "codemirror_mode": {
    "name": "ipython",
    "version": 3
   },
   "file_extension": ".py",
   "mimetype": "text/x-python",
   "name": "python",
   "nbconvert_exporter": "python",
   "pygments_lexer": "ipython3",
   "version": "3.7.3"
  }
 },
 "nbformat": 4,
 "nbformat_minor": 2
}
