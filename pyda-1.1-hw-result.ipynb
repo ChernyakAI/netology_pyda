{
 "cells": [
  {
   "cell_type": "markdown",
   "metadata": {},
   "source": [
    "**Задание 1**. Даны 2 строки: *long_phrase* и *short_phrase*. \n",
    "Напишите код, который проверяет действительно ли длинная фраза *long_phrase* длиннее короткой *short_phrase*. И выводит *True* или *False* в зависимости от результата сравнения."
   ]
  },
  {
   "cell_type": "code",
   "execution_count": 1,
   "metadata": {},
   "outputs": [],
   "source": [
    "long_phrase = 'Насколько проще было бы писать программы, если бы не заказчики'\n",
    "short_phrase = '640Кб должно хватить для любых задач. Билл Гейтс (по легенде)'"
   ]
  },
  {
   "cell_type": "code",
   "execution_count": 2,
   "metadata": {},
   "outputs": [
    {
     "name": "stdout",
     "output_type": "stream",
     "text": [
      "True\n"
     ]
    }
   ],
   "source": [
    "if len(long_phrase) > len(short_phrase):\n",
    "    print('True')\n",
    "else:\n",
    "    print('False')"
   ]
  },
  {
   "cell_type": "markdown",
   "metadata": {},
   "source": [
    "**Задание 2**. Дано значение объема файла в байтах. Напишите перевод этого значения в мегабайты в формате: \"*Объем файла равен 213.68Mb*\""
   ]
  },
  {
   "cell_type": "code",
   "execution_count": 3,
   "metadata": {},
   "outputs": [
    {
     "name": "stdout",
     "output_type": "stream",
     "text": [
      "Введите объём файла в байтах: 552235\n",
      "Объём файла равен 539.29Mb\n"
     ]
    }
   ],
   "source": [
    "size_bytes = int(input('Введите объём файла в байтах: '))\n",
    "size_mb = round(size_bytes / 1024, 2)\n",
    "output_string = str(size_mb) + 'Mb'\n",
    "print('Объём файла равен', output_string)"
   ]
  },
  {
   "cell_type": "markdown",
   "metadata": {},
   "source": [
    "**Задание 3**. Разработать приложение для определения знака зодиака по дате рождения. Пример:\n",
    "\n",
    "Введите месяц: март\n",
    "\n",
    "Введите число: 6\n",
    "\n",
    "Вывод:\n",
    "Рыбы"
   ]
  },
  {
   "cell_type": "code",
   "execution_count": 4,
   "metadata": {},
   "outputs": [
    {
     "name": "stdout",
     "output_type": "stream",
     "text": [
      "Введите месяц: апрель\n",
      "Введите число: 6\n",
      "Овен\n"
     ]
    }
   ],
   "source": [
    "month = input('Введите месяц: ').lower()\n",
    "day = int(input('Введите число: '))\n",
    "result = ''\n",
    "\n",
    "if month == \"январь\":\n",
    "    result = 'Козерог' if (day >= 1 and day <= 20) else 'Водолей'\n",
    "elif month == 'февраль':\n",
    "    result = 'Водолей' if (day >= 1 and day <= 18) else 'Рыбы'\n",
    "elif month == 'март':\n",
    "    result = 'Рыбы' if (day >= 1 and day <= 20) else 'Овен'\n",
    "elif month == 'апрель':\n",
    "    result = 'Овен' if (day >= 1 and day <= 19) else 'Телец'\n",
    "elif month == 'май':\n",
    "    result = 'Телец' if (day >= 1 and day <= 20) else 'Близнецы'\n",
    "elif month == 'июнь':\n",
    "    result = 'Близнецы' if (day >= 1 and day <= 21) else 'Рак'\n",
    "elif month == 'июль':\n",
    "    result = 'Рак' if (day >= 1 and day <= 22) else 'Лев'\n",
    "elif month == 'август':\n",
    "    result = 'Лев' if (day >= 1 and day <= 22) else 'Дева'\n",
    "elif month == 'сентябрь':\n",
    "    result = 'Дева' if (day >= 1 and day <= 22) else 'Весы'\n",
    "elif month == 'октябрь':\n",
    "    result = 'Весы' if (day >= 1 and day <= 23) else 'Скорпион'\n",
    "elif month == 'ноябрь':\n",
    "    result = 'Скорпион' if (day >= 1 and day <= 22) else 'Стрелец'\n",
    "elif month == 'декабрь':\n",
    "    result = 'Стрелец' if (day >= 1 and day <= 21) else 'Козерог'    \n",
    "\n",
    "if result != '':\n",
    "    print(result)\n",
    "else:\n",
    "    print('Наименование месяца указано неверно.')"
   ]
  },
  {
   "cell_type": "markdown",
   "metadata": {},
   "source": [
    "**Задание 4**. Нужно разработать приложение для финансового планирования.\n",
    "Приложение учитывает сколько уходит на ипотеку, \"на жизнь\" и сколько нужно отложить на пенсию.\n",
    "Пользователь вводит:\n",
    "- заработанную плату в месяц.\n",
    "- сколько процентов от ЗП уходит на ипотеку.\n",
    "- сколько процентов от ЗП уходит \"на жизнь\".\n",
    "- сколько раз приходит премия в год.\n",
    "\n",
    "Остальная часть заработанной платы откладывается на пенсию.\n",
    "\n",
    "Также пользователю приходит премия в размере зарплаты, от которой половина уходит на отпуск, а вторая половина откладывается.\n",
    "\n",
    "Программа должна учитывать сколько премий было в год.\n",
    "\n",
    "Нужно вывести сколько денег тратит пользователь на ипотеку и сколько он накопит за год.\n",
    "\n",
    "Пример:\n",
    "\n",
    "Введите заработанную плату в месяц: 100000\n",
    "\n",
    "Введите сколько процентов уходит на ипотеку: 30\n",
    "\n",
    "Введите сколько процентов уходит на жизнь: 50\n",
    "\n",
    "Введите количество премий за год: 2\n",
    "\n",
    "Вывод:\n",
    "На ипотеку было потрачено: 360000 рублей\n",
    "Было накоплено: 340000 рублей"
   ]
  },
  {
   "cell_type": "code",
   "execution_count": 16,
   "metadata": {},
   "outputs": [
    {
     "name": "stdout",
     "output_type": "stream",
     "text": [
      "Введите заработанную плату в месяц: 100000\n",
      "Введите количество премий за год: 2\n",
      "Введите сколько процентов уходит на ипотеку: 30\n",
      "Введите сколько процентов уходит на жизнь: 50\n",
      "На ипотеку было потрачено: 360000 рублей. Было накоплено: 340000 рублей.\n"
     ]
    }
   ],
   "source": [
    "salary = int(input('Введите заработанную плату в месяц: '))\n",
    "bonuses_per_year = int(input('Введите количество премий за год: '))\n",
    "percent_for_mortgage = int(input('Введите сколько процентов уходит на ипотеку: '))\n",
    "percent_for_life = int(input('Введите сколько процентов уходит на жизнь: '))\n",
    "\n",
    "total_on_mortrage = int(12 * salary * percent_for_mortgage / 100)\n",
    "remaining_money = int(12 * (salary - salary * percent_for_mortgage / 100 - salary * percent_for_life / 100) + \\\n",
    "                     salary * bonuses_per_year * 0.5)\n",
    "\n",
    "print('На ипотеку было потрачено:', total_on_mortrage, 'рублей.', 'Было накоплено:', remaining_money, 'рублей.')"
   ]
  }
 ],
 "metadata": {
  "kernelspec": {
   "display_name": "Python 3",
   "language": "python",
   "name": "python3"
  },
  "language_info": {
   "codemirror_mode": {
    "name": "ipython",
    "version": 3
   },
   "file_extension": ".py",
   "mimetype": "text/x-python",
   "name": "python",
   "nbconvert_exporter": "python",
   "pygments_lexer": "ipython3",
   "version": "3.7.3"
  }
 },
 "nbformat": 4,
 "nbformat_minor": 2
}
