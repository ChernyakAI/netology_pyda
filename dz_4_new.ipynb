{
 "cells": [
  {
   "cell_type": "markdown",
   "metadata": {},
   "source": [
    "# Домашняя работа №4"
   ]
  },
  {
   "cell_type": "markdown",
   "metadata": {},
   "source": [
    "Для датасета kaggle, Credit Card Fraud Detection. https://www.kaggle.com/mlg-ulb/creditcardfraud"
   ]
  },
  {
   "cell_type": "markdown",
   "metadata": {},
   "source": [
    "**1. Библиотеки**"
   ]
  },
  {
   "cell_type": "code",
   "execution_count": 44,
   "metadata": {},
   "outputs": [],
   "source": [
    "import numpy as np\n",
    "from scipy.stats import t\n",
    "from scipy.stats import norm\n",
    "import matplotlib.pyplot as plt\n",
    "from scipy import stats\n",
    "import pandas as pd\n",
    "import io\n",
    "import requests\n",
    "import seaborn as sns\n",
    "from sklearn.metrics import accuracy_score\n",
    "\n",
    "%matplotlib inline"
   ]
  },
  {
   "cell_type": "markdown",
   "metadata": {},
   "source": [
    "**1. Загрузить датасет**"
   ]
  },
  {
   "cell_type": "code",
   "execution_count": 3,
   "metadata": {},
   "outputs": [
    {
     "data": {
      "text/html": [
       "<div>\n",
       "<style scoped>\n",
       "    .dataframe tbody tr th:only-of-type {\n",
       "        vertical-align: middle;\n",
       "    }\n",
       "\n",
       "    .dataframe tbody tr th {\n",
       "        vertical-align: top;\n",
       "    }\n",
       "\n",
       "    .dataframe thead th {\n",
       "        text-align: right;\n",
       "    }\n",
       "</style>\n",
       "<table border=\"1\" class=\"dataframe\">\n",
       "  <thead>\n",
       "    <tr style=\"text-align: right;\">\n",
       "      <th></th>\n",
       "      <th>Unnamed: 0</th>\n",
       "      <th>Time</th>\n",
       "      <th>V1</th>\n",
       "      <th>V2</th>\n",
       "      <th>V3</th>\n",
       "      <th>V4</th>\n",
       "      <th>V5</th>\n",
       "      <th>V6</th>\n",
       "      <th>V7</th>\n",
       "      <th>V8</th>\n",
       "      <th>...</th>\n",
       "      <th>V21</th>\n",
       "      <th>V22</th>\n",
       "      <th>V23</th>\n",
       "      <th>V24</th>\n",
       "      <th>V25</th>\n",
       "      <th>V26</th>\n",
       "      <th>V27</th>\n",
       "      <th>V28</th>\n",
       "      <th>Amount</th>\n",
       "      <th>Class</th>\n",
       "    </tr>\n",
       "  </thead>\n",
       "  <tbody>\n",
       "    <tr>\n",
       "      <th>0</th>\n",
       "      <td>0</td>\n",
       "      <td>64</td>\n",
       "      <td>1.212511</td>\n",
       "      <td>-0.099054</td>\n",
       "      <td>-1.192094</td>\n",
       "      <td>0.286324</td>\n",
       "      <td>2.160516</td>\n",
       "      <td>3.616314</td>\n",
       "      <td>-0.404207</td>\n",
       "      <td>0.842331</td>\n",
       "      <td>...</td>\n",
       "      <td>-0.167496</td>\n",
       "      <td>-0.494695</td>\n",
       "      <td>-0.149785</td>\n",
       "      <td>1.011227</td>\n",
       "      <td>0.883548</td>\n",
       "      <td>-0.329434</td>\n",
       "      <td>0.020370</td>\n",
       "      <td>0.017037</td>\n",
       "      <td>34.70</td>\n",
       "      <td>0</td>\n",
       "    </tr>\n",
       "    <tr>\n",
       "      <th>1</th>\n",
       "      <td>1</td>\n",
       "      <td>64</td>\n",
       "      <td>-0.658305</td>\n",
       "      <td>0.406791</td>\n",
       "      <td>2.037461</td>\n",
       "      <td>-0.291298</td>\n",
       "      <td>0.147910</td>\n",
       "      <td>-0.350857</td>\n",
       "      <td>0.945373</td>\n",
       "      <td>-0.172560</td>\n",
       "      <td>...</td>\n",
       "      <td>-0.156096</td>\n",
       "      <td>-0.238805</td>\n",
       "      <td>0.089877</td>\n",
       "      <td>0.421195</td>\n",
       "      <td>-0.352487</td>\n",
       "      <td>0.074783</td>\n",
       "      <td>-0.094192</td>\n",
       "      <td>-0.092493</td>\n",
       "      <td>54.99</td>\n",
       "      <td>0</td>\n",
       "    </tr>\n",
       "    <tr>\n",
       "      <th>2</th>\n",
       "      <td>2</td>\n",
       "      <td>124</td>\n",
       "      <td>1.105253</td>\n",
       "      <td>0.541842</td>\n",
       "      <td>0.839421</td>\n",
       "      <td>2.570933</td>\n",
       "      <td>-0.279517</td>\n",
       "      <td>-0.423062</td>\n",
       "      <td>0.088019</td>\n",
       "      <td>0.011622</td>\n",
       "      <td>...</td>\n",
       "      <td>-0.137434</td>\n",
       "      <td>-0.460991</td>\n",
       "      <td>0.189397</td>\n",
       "      <td>0.556329</td>\n",
       "      <td>0.185786</td>\n",
       "      <td>-0.189030</td>\n",
       "      <td>0.000208</td>\n",
       "      <td>0.026167</td>\n",
       "      <td>6.24</td>\n",
       "      <td>0</td>\n",
       "    </tr>\n",
       "    <tr>\n",
       "      <th>3</th>\n",
       "      <td>3</td>\n",
       "      <td>128</td>\n",
       "      <td>1.239495</td>\n",
       "      <td>-0.182609</td>\n",
       "      <td>0.155058</td>\n",
       "      <td>-0.928892</td>\n",
       "      <td>-0.746227</td>\n",
       "      <td>-1.235608</td>\n",
       "      <td>-0.061695</td>\n",
       "      <td>-0.125223</td>\n",
       "      <td>...</td>\n",
       "      <td>0.146077</td>\n",
       "      <td>0.481119</td>\n",
       "      <td>-0.140019</td>\n",
       "      <td>0.538261</td>\n",
       "      <td>0.710720</td>\n",
       "      <td>-0.621382</td>\n",
       "      <td>0.036867</td>\n",
       "      <td>0.010963</td>\n",
       "      <td>8.80</td>\n",
       "      <td>0</td>\n",
       "    </tr>\n",
       "    <tr>\n",
       "      <th>4</th>\n",
       "      <td>4</td>\n",
       "      <td>132</td>\n",
       "      <td>-1.571359</td>\n",
       "      <td>1.687508</td>\n",
       "      <td>0.734670</td>\n",
       "      <td>1.293350</td>\n",
       "      <td>-0.217532</td>\n",
       "      <td>-0.002677</td>\n",
       "      <td>0.147364</td>\n",
       "      <td>0.515362</td>\n",
       "      <td>...</td>\n",
       "      <td>0.048549</td>\n",
       "      <td>0.377256</td>\n",
       "      <td>-0.030436</td>\n",
       "      <td>0.117608</td>\n",
       "      <td>-0.060520</td>\n",
       "      <td>-0.296550</td>\n",
       "      <td>-0.481570</td>\n",
       "      <td>-0.167897</td>\n",
       "      <td>10.00</td>\n",
       "      <td>0</td>\n",
       "    </tr>\n",
       "  </tbody>\n",
       "</table>\n",
       "<p>5 rows × 32 columns</p>\n",
       "</div>"
      ],
      "text/plain": [
       "   Unnamed: 0  Time        V1        V2        V3        V4        V5  \\\n",
       "0           0    64  1.212511 -0.099054 -1.192094  0.286324  2.160516   \n",
       "1           1    64 -0.658305  0.406791  2.037461 -0.291298  0.147910   \n",
       "2           2   124  1.105253  0.541842  0.839421  2.570933 -0.279517   \n",
       "3           3   128  1.239495 -0.182609  0.155058 -0.928892 -0.746227   \n",
       "4           4   132 -1.571359  1.687508  0.734670  1.293350 -0.217532   \n",
       "\n",
       "         V6        V7        V8  ...       V21       V22       V23       V24  \\\n",
       "0  3.616314 -0.404207  0.842331  ... -0.167496 -0.494695 -0.149785  1.011227   \n",
       "1 -0.350857  0.945373 -0.172560  ... -0.156096 -0.238805  0.089877  0.421195   \n",
       "2 -0.423062  0.088019  0.011622  ... -0.137434 -0.460991  0.189397  0.556329   \n",
       "3 -1.235608 -0.061695 -0.125223  ...  0.146077  0.481119 -0.140019  0.538261   \n",
       "4 -0.002677  0.147364  0.515362  ...  0.048549  0.377256 -0.030436  0.117608   \n",
       "\n",
       "        V25       V26       V27       V28  Amount  Class  \n",
       "0  0.883548 -0.329434  0.020370  0.017037   34.70      0  \n",
       "1 -0.352487  0.074783 -0.094192 -0.092493   54.99      0  \n",
       "2  0.185786 -0.189030  0.000208  0.026167    6.24      0  \n",
       "3  0.710720 -0.621382  0.036867  0.010963    8.80      0  \n",
       "4 -0.060520 -0.296550 -0.481570 -0.167897   10.00      0  \n",
       "\n",
       "[5 rows x 32 columns]"
      ]
     },
     "execution_count": 3,
     "metadata": {},
     "output_type": "execute_result"
    }
   ],
   "source": [
    "data = pd.read_csv('creditcard_sampledata.csv')\n",
    "data.head()"
   ]
  },
  {
   "cell_type": "markdown",
   "metadata": {
    "colab_type": "text",
    "id": "6gSTHiOJfqb2"
   },
   "source": [
    "**2. Посмотреть отсутствующие значения (какое количество Nan элементов).**"
   ]
  },
  {
   "cell_type": "code",
   "execution_count": 5,
   "metadata": {
    "scrolled": true
   },
   "outputs": [
    {
     "name": "stdout",
     "output_type": "stream",
     "text": [
      "<class 'pandas.core.frame.DataFrame'>\n",
      "RangeIndex: 8000 entries, 0 to 7999\n",
      "Data columns (total 32 columns):\n",
      "Unnamed: 0    8000 non-null int64\n",
      "Time          8000 non-null int64\n",
      "V1            8000 non-null float64\n",
      "V2            8000 non-null float64\n",
      "V3            8000 non-null float64\n",
      "V4            8000 non-null float64\n",
      "V5            8000 non-null float64\n",
      "V6            8000 non-null float64\n",
      "V7            8000 non-null float64\n",
      "V8            8000 non-null float64\n",
      "V9            8000 non-null float64\n",
      "V10           8000 non-null float64\n",
      "V11           8000 non-null float64\n",
      "V12           8000 non-null float64\n",
      "V13           8000 non-null float64\n",
      "V14           8000 non-null float64\n",
      "V15           8000 non-null float64\n",
      "V16           8000 non-null float64\n",
      "V17           8000 non-null float64\n",
      "V18           8000 non-null float64\n",
      "V19           8000 non-null float64\n",
      "V20           8000 non-null float64\n",
      "V21           8000 non-null float64\n",
      "V22           8000 non-null float64\n",
      "V23           8000 non-null float64\n",
      "V24           8000 non-null float64\n",
      "V25           8000 non-null float64\n",
      "V26           8000 non-null float64\n",
      "V27           8000 non-null float64\n",
      "V28           8000 non-null float64\n",
      "Amount        8000 non-null float64\n",
      "Class         8000 non-null int64\n",
      "dtypes: float64(29), int64(3)\n",
      "memory usage: 2.0 MB\n"
     ]
    }
   ],
   "source": [
    "data.info()"
   ]
  },
  {
   "cell_type": "code",
   "execution_count": null,
   "metadata": {},
   "outputs": [],
   "source": [
    "# NaN-значений нет"
   ]
  },
  {
   "cell_type": "markdown",
   "metadata": {
    "colab_type": "text",
    "id": "OFDGPbTpf7wn"
   },
   "source": [
    "**3. Основное таргет значение: 1 - сделка была обманной, 0 - честной. Сделать график barplot для этих двух классов из колонки 'Class'. Посчитать количество элементов в классе 1 и в классе 2.**"
   ]
  },
  {
   "cell_type": "code",
   "execution_count": 16,
   "metadata": {},
   "outputs": [
    {
     "data": {
      "text/plain": [
       "Class\n",
       "0    7983\n",
       "1      17\n",
       "Name: Amount, dtype: int64"
      ]
     },
     "execution_count": 16,
     "metadata": {},
     "output_type": "execute_result"
    },
    {
     "data": {
      "image/png": "[encoded data removed]",
      "text/plain": [
       "<Figure size 432x288 with 1 Axes>"
      ]
     },
     "metadata": {
      "needs_background": "light"
     },
     "output_type": "display_data"
    }
   ],
   "source": [
    "data_2 = data.groupby(['Class']).count()['Amount']\n",
    "data_2.plot(kind='bar')\n",
    "data_2"
   ]
  },
  {
   "cell_type": "markdown",
   "metadata": {
    "colab_type": "text",
    "id": "lSsrxdWNhEbt"
   },
   "source": [
    "**4. Сколько денег было использовано в обманных операциях, а сколько - в нормальных операциях? Сделать частотный график по колонке Amount для колонки Class по двум независимым выборкам: обманная операция, нормальная операция**"
   ]
  },
  {
   "cell_type": "code",
   "execution_count": 24,
   "metadata": {
    "scrolled": false
   },
   "outputs": [
    {
     "data": {
      "image/png": "[encoded data removed]",
      "text/plain": [
       "<Figure size 432x288 with 1 Axes>"
      ]
     },
     "metadata": {
      "needs_background": "light"
     },
     "output_type": "display_data"
    }
   ],
   "source": [
    "n, bins, patches = plt.hist(data[data['Class']==0]['Amount'], 50, facecolor='g')\n",
    "plt.xlabel('Частота')\n",
    "plt.ylabel('Сумма')\n",
    "plt.title('Частотный график ')\n",
    "plt.grid(True)\n",
    "plt.show()"
   ]
  },
  {
   "cell_type": "code",
   "execution_count": 25,
   "metadata": {},
   "outputs": [
    {
     "data": {
      "image/png": "[encoded data removed]",
      "text/plain": [
       "<Figure size 432x288 with 1 Axes>"
      ]
     },
     "metadata": {
      "needs_background": "light"
     },
     "output_type": "display_data"
    }
   ],
   "source": [
    "n, bins, patches = plt.hist(data[data['Class']==1]['Amount'], 50, facecolor='g')\n",
    "plt.xlabel('Частота')\n",
    "plt.ylabel('Сумма')\n",
    "plt.title('Частотный график ')\n",
    "plt.grid(True)\n",
    "plt.show()"
   ]
  },
  {
   "cell_type": "markdown",
   "metadata": {
    "colab_type": "text",
    "id": "ZvLC_vQXiP0N"
   },
   "source": [
    "**5. Построить графики histograms для всех значений**"
   ]
  },
  {
   "cell_type": "code",
   "execution_count": 57,
   "metadata": {},
   "outputs": [
    {
     "data": {
      "image/png": "[encoded data removed]",
      "text/plain": [
       "<Figure size 1080x1080 with 36 Axes>"
      ]
     },
     "metadata": {
      "needs_background": "light"
     },
     "output_type": "display_data"
    }
   ],
   "source": [
    "data.hist(figsize=(15,15))\n",
    "plt.show()"
   ]
  },
  {
   "cell_type": "markdown",
   "metadata": {
    "colab_type": "text",
    "id": "APD2wPSpi_eH"
   },
   "source": [
    "**6. Построить матрицу корреляций для всех значений**"
   ]
  },
  {
   "cell_type": "code",
   "execution_count": 54,
   "metadata": {},
   "outputs": [
    {
     "data": {
      "text/html": [
       "<div>\n",
       "<style scoped>\n",
       "    .dataframe tbody tr th:only-of-type {\n",
       "        vertical-align: middle;\n",
       "    }\n",
       "\n",
       "    .dataframe tbody tr th {\n",
       "        vertical-align: top;\n",
       "    }\n",
       "\n",
       "    .dataframe thead th {\n",
       "        text-align: right;\n",
       "    }\n",
       "</style>\n",
       "<table border=\"1\" class=\"dataframe\">\n",
       "  <thead>\n",
       "    <tr style=\"text-align: right;\">\n",
       "      <th></th>\n",
       "      <th>Unnamed: 0</th>\n",
       "      <th>Time</th>\n",
       "      <th>V1</th>\n",
       "      <th>V2</th>\n",
       "      <th>V3</th>\n",
       "      <th>V4</th>\n",
       "      <th>V5</th>\n",
       "      <th>V6</th>\n",
       "      <th>V7</th>\n",
       "      <th>V8</th>\n",
       "      <th>...</th>\n",
       "      <th>V21</th>\n",
       "      <th>V22</th>\n",
       "      <th>V23</th>\n",
       "      <th>V24</th>\n",
       "      <th>V25</th>\n",
       "      <th>V26</th>\n",
       "      <th>V27</th>\n",
       "      <th>V28</th>\n",
       "      <th>Amount</th>\n",
       "      <th>Class</th>\n",
       "    </tr>\n",
       "  </thead>\n",
       "  <tbody>\n",
       "    <tr>\n",
       "      <th>0</th>\n",
       "      <td>-1.00000</td>\n",
       "      <td>-1.000000</td>\n",
       "      <td>0.928245</td>\n",
       "      <td>0.431868</td>\n",
       "      <td>0.567334</td>\n",
       "      <td>-0.212954</td>\n",
       "      <td>0.570282</td>\n",
       "      <td>-0.279725</td>\n",
       "      <td>-0.361905</td>\n",
       "      <td>0.510607</td>\n",
       "      <td>...</td>\n",
       "      <td>-0.031350</td>\n",
       "      <td>-0.033056</td>\n",
       "      <td>-0.215096</td>\n",
       "      <td>0.197038</td>\n",
       "      <td>0.429942</td>\n",
       "      <td>-0.437884</td>\n",
       "      <td>0.044609</td>\n",
       "      <td>-0.616334</td>\n",
       "      <td>-0.993196</td>\n",
       "      <td>-1.0</td>\n",
       "    </tr>\n",
       "    <tr>\n",
       "      <th>1</th>\n",
       "      <td>-0.99975</td>\n",
       "      <td>-1.000000</td>\n",
       "      <td>0.812571</td>\n",
       "      <td>0.456759</td>\n",
       "      <td>0.837215</td>\n",
       "      <td>-0.292674</td>\n",
       "      <td>0.496075</td>\n",
       "      <td>-0.529799</td>\n",
       "      <td>-0.320564</td>\n",
       "      <td>0.453641</td>\n",
       "      <td>...</td>\n",
       "      <td>-0.030549</td>\n",
       "      <td>0.022981</td>\n",
       "      <td>-0.200068</td>\n",
       "      <td>0.012442</td>\n",
       "      <td>-0.000402</td>\n",
       "      <td>-0.245625</td>\n",
       "      <td>0.024081</td>\n",
       "      <td>-0.627659</td>\n",
       "      <td>-0.989217</td>\n",
       "      <td>-1.0</td>\n",
       "    </tr>\n",
       "    <tr>\n",
       "      <th>2</th>\n",
       "      <td>-0.99950</td>\n",
       "      <td>-0.999305</td>\n",
       "      <td>0.921613</td>\n",
       "      <td>0.463404</td>\n",
       "      <td>0.737099</td>\n",
       "      <td>0.102355</td>\n",
       "      <td>0.480315</td>\n",
       "      <td>-0.534350</td>\n",
       "      <td>-0.346827</td>\n",
       "      <td>0.463979</td>\n",
       "      <td>...</td>\n",
       "      <td>-0.029238</td>\n",
       "      <td>-0.025675</td>\n",
       "      <td>-0.193827</td>\n",
       "      <td>0.054719</td>\n",
       "      <td>0.187006</td>\n",
       "      <td>-0.371103</td>\n",
       "      <td>0.040996</td>\n",
       "      <td>-0.615390</td>\n",
       "      <td>-0.998776</td>\n",
       "      <td>-1.0</td>\n",
       "    </tr>\n",
       "    <tr>\n",
       "      <th>3</th>\n",
       "      <td>-0.99925</td>\n",
       "      <td>-0.999259</td>\n",
       "      <td>0.929913</td>\n",
       "      <td>0.427757</td>\n",
       "      <td>0.679910</td>\n",
       "      <td>-0.380671</td>\n",
       "      <td>0.463107</td>\n",
       "      <td>-0.585570</td>\n",
       "      <td>-0.351413</td>\n",
       "      <td>0.456298</td>\n",
       "      <td>...</td>\n",
       "      <td>-0.009312</td>\n",
       "      <td>0.180636</td>\n",
       "      <td>-0.214484</td>\n",
       "      <td>0.049067</td>\n",
       "      <td>0.369770</td>\n",
       "      <td>-0.576744</td>\n",
       "      <td>0.047565</td>\n",
       "      <td>-0.616962</td>\n",
       "      <td>-0.998274</td>\n",
       "      <td>-1.0</td>\n",
       "    </tr>\n",
       "    <tr>\n",
       "      <th>4</th>\n",
       "      <td>-0.99900</td>\n",
       "      <td>-0.999213</td>\n",
       "      <td>0.756116</td>\n",
       "      <td>0.519777</td>\n",
       "      <td>0.728346</td>\n",
       "      <td>-0.073970</td>\n",
       "      <td>0.482600</td>\n",
       "      <td>-0.507851</td>\n",
       "      <td>-0.345009</td>\n",
       "      <td>0.492254</td>\n",
       "      <td>...</td>\n",
       "      <td>-0.016167</td>\n",
       "      <td>0.157891</td>\n",
       "      <td>-0.207612</td>\n",
       "      <td>-0.082538</td>\n",
       "      <td>0.101251</td>\n",
       "      <td>-0.422244</td>\n",
       "      <td>-0.045332</td>\n",
       "      <td>-0.635456</td>\n",
       "      <td>-0.998039</td>\n",
       "      <td>-1.0</td>\n",
       "    </tr>\n",
       "  </tbody>\n",
       "</table>\n",
       "<p>5 rows × 32 columns</p>\n",
       "</div>"
      ],
      "text/plain": [
       "   Unnamed: 0      Time        V1        V2        V3        V4        V5  \\\n",
       "0    -1.00000 -1.000000  0.928245  0.431868  0.567334 -0.212954  0.570282   \n",
       "1    -0.99975 -1.000000  0.812571  0.456759  0.837215 -0.292674  0.496075   \n",
       "2    -0.99950 -0.999305  0.921613  0.463404  0.737099  0.102355  0.480315   \n",
       "3    -0.99925 -0.999259  0.929913  0.427757  0.679910 -0.380671  0.463107   \n",
       "4    -0.99900 -0.999213  0.756116  0.519777  0.728346 -0.073970  0.482600   \n",
       "\n",
       "         V6        V7        V8  ...       V21       V22       V23       V24  \\\n",
       "0 -0.279725 -0.361905  0.510607  ... -0.031350 -0.033056 -0.215096  0.197038   \n",
       "1 -0.529799 -0.320564  0.453641  ... -0.030549  0.022981 -0.200068  0.012442   \n",
       "2 -0.534350 -0.346827  0.463979  ... -0.029238 -0.025675 -0.193827  0.054719   \n",
       "3 -0.585570 -0.351413  0.456298  ... -0.009312  0.180636 -0.214484  0.049067   \n",
       "4 -0.507851 -0.345009  0.492254  ... -0.016167  0.157891 -0.207612 -0.082538   \n",
       "\n",
       "        V25       V26       V27       V28    Amount  Class  \n",
       "0  0.429942 -0.437884  0.044609 -0.616334 -0.993196   -1.0  \n",
       "1 -0.000402 -0.245625  0.024081 -0.627659 -0.989217   -1.0  \n",
       "2  0.187006 -0.371103  0.040996 -0.615390 -0.998776   -1.0  \n",
       "3  0.369770 -0.576744  0.047565 -0.616962 -0.998274   -1.0  \n",
       "4  0.101251 -0.422244 -0.045332 -0.635456 -0.998039   -1.0  \n",
       "\n",
       "[5 rows x 32 columns]"
      ]
     },
     "execution_count": 54,
     "metadata": {},
     "output_type": "execute_result"
    }
   ],
   "source": [
    "headers = list(data.columns.values)\n",
    "from sklearn import preprocessing\n",
    "min_max_scaler = preprocessing.MinMaxScaler(feature_range=(-1,1))\n",
    "\n",
    "np_scaled = min_max_scaler.fit_transform(data)\n",
    "df_norm = pd.DataFrame(np_scaled)\n",
    "df_norm.columns = headers\n",
    "df_norm.head()"
   ]
  },
  {
   "cell_type": "code",
   "execution_count": 55,
   "metadata": {
    "scrolled": true
   },
   "outputs": [
    {
     "data": {
      "text/plain": [
       "<matplotlib.axes._subplots.AxesSubplot at 0x2565d170>"
      ]
     },
     "execution_count": 55,
     "metadata": {},
     "output_type": "execute_result"
    },
    {
     "data": {
      "image/png": "[encoded data removed]",
      "text/plain": [
       "<Figure size 936x936 with 2 Axes>"
      ]
     },
     "metadata": {
      "needs_background": "light"
     },
     "output_type": "display_data"
    }
   ],
   "source": [
    "f, ax = plt.subplots(figsize=(13, 13))\n",
    "corr = df_norm.corr()\n",
    "sns.heatmap(corr, mask=np.zeros_like(corr, dtype=np.bool), cmap=sns.diverging_palette(220, 10, as_cmap=True),\n",
    "            square=True, ax=ax)"
   ]
  },
  {
   "cell_type": "markdown",
   "metadata": {
    "colab_type": "text",
    "id": "gZwGybULjSUA"
   },
   "source": [
    "**7. Выбрать несколько элементов исходя из матрицы корреляций для предсказания таргет значения Class. Построить модель логистической регрессии. Разделить датасет на 80% тренировочных данных и 20% тестовых данных. Для fit метода использовать тренировочные данные, проверить качество модели на тестовых данных. Почему модель дает такой результат?**\n",
    "\n",
    "Для разделения на тренировочный датасет и тестовый датасет можно использовать функцию  из sklearn:\n",
    "\n",
    "from sklearn.cross_validation import train_test_split\n",
    "\n",
    "X_train, X_test, y_train, y_test = train_test_split(X,y,test_size = 0.2, random_state = 0)"
   ]
  },
  {
   "cell_type": "code",
   "execution_count": 94,
   "metadata": {},
   "outputs": [
    {
     "data": {
      "text/plain": [
       "0.1984152993101762"
      ]
     },
     "execution_count": 94,
     "metadata": {},
     "output_type": "execute_result"
    }
   ],
   "source": [
    "from sklearn.model_selection import train_test_split\n",
    "from sklearn.linear_model import LinearRegression\n",
    "\n",
    "y = data['Class']\n",
    "x = np.vstack([np.array(data['V14']), np.array(data['V17'])]).T\n",
    "\n",
    "x_train, x_test, y_train, y_test = train_test_split(x, y,test_size = 0.2, random_state = 0)\n",
    "model = LinearRegression().fit(x_train, y_train)\n",
    "\n",
    "model.score(x_test, y_test)"
   ]
  },
  {
   "cell_type": "code",
   "execution_count": 59,
   "metadata": {},
   "outputs": [],
   "source": [
    "# слишком несбалансированные данные по таргету Class даёт большую вероятность ошибки"
   ]
  },
  {
   "cell_type": "markdown",
   "metadata": {
    "colab_type": "text",
    "id": "xb79RahXkBlM"
   },
   "source": [
    "**8. Чтобы уравновесить датасет по классу Class, выберем одинаковое количество элементов из датасета по классу.** Необходимо посчитать минимальное количество (N) элементов, посчитанное в задаче 3. Выбрать N элементов рандомно из класса, имеющего бОльшее количество элементов, и все элементы из класса имеющего меньшее количество. Таким образом, мы уравновесим датасет по количеству элементов. Смоделировать логистической регрессию на полученном датасете. Посчитать качество модели. Получилось ли улучшить модель? Если да, то засчет чего?"
   ]
  },
  {
   "cell_type": "code",
   "execution_count": 88,
   "metadata": {},
   "outputs": [
    {
     "data": {
      "text/plain": [
       "-0.20206129609531343"
      ]
     },
     "execution_count": 88,
     "metadata": {},
     "output_type": "execute_result"
    }
   ],
   "source": [
    "from sklearn.utils import shuffle\n",
    "data_count = data.groupby(['Class']).count()['Amount']\n",
    "data_count = data_count.reset_index()\n",
    "data_count = data_count.query('Class==1')\n",
    "\n",
    "first = data[data['Class'] == 0].sample(n=data_count.iloc[0][1])\n",
    "#first\n",
    "\n",
    "second = data[data['Class'] == 1]\n",
    "#second\n",
    "\n",
    "result = pd.concat([first, second])\n",
    "#result\n",
    "\n"
   ]
  },
  {
   "cell_type": "code",
   "execution_count": 95,
   "metadata": {},
   "outputs": [
    {
     "data": {
      "text/plain": [
       "-0.20206129609531384"
      ]
     },
     "execution_count": 95,
     "metadata": {},
     "output_type": "execute_result"
    }
   ],
   "source": [
    "# применяем модель логистической регрессии на уравновешенной выборке\n",
    "y = result['Class']\n",
    "x = np.vstack([np.array(result['V14']), np.array(result['V17'])]).T\n",
    "x_train_2, x_test_2, y_train_2, y_test_2 = train_test_split(x, y,test_size = 0.2, random_state = 0)\n",
    "model = LinearRegression().fit(x_train_2, y_train_2)\n",
    "model.score(x_test_2, y_test_2)"
   ]
  },
  {
   "cell_type": "code",
   "execution_count": null,
   "metadata": {},
   "outputs": [],
   "source": [
    "# похоже, стало совсем плохо"
   ]
  },
  {
   "cell_type": "markdown",
   "metadata": {
    "colab_type": "text",
    "id": "cTJa7iw7nDh7"
   },
   "source": [
    "**9. Написать модель RandomForestClassifier на данный датасет и сравнить результаты с логистической регрессией. Почему результаты получились лучше (или хуже). Тренировочные и тестовые данные выбираем одинаковые (те же, что и для логистической регрессии), полученные на шаге 7.**"
   ]
  },
  {
   "cell_type": "code",
   "execution_count": 98,
   "metadata": {
    "colab": {},
    "colab_type": "code",
    "id": "s6L7CnEhfZJ-"
   },
   "outputs": [
    {
     "data": {
      "text/plain": [
       "0.99625"
      ]
     },
     "execution_count": 98,
     "metadata": {},
     "output_type": "execute_result"
    }
   ],
   "source": [
    "from sklearn.ensemble import (RandomForestClassifier, ExtraTreesClassifier,\n",
    "                              AdaBoostClassifier)\n",
    "\n",
    "\n",
    "model=RandomForestClassifier(n_estimators=500)\n",
    "model.fit(x_train,y_train)\n",
    "model.score(x_test, y_test)"
   ]
  },
  {
   "cell_type": "code",
   "execution_count": 99,
   "metadata": {},
   "outputs": [],
   "source": [
    "# результаты лучше, т.к. модель лучше работает с несбалансированными данными"
   ]
  },
  {
   "cell_type": "code",
   "execution_count": null,
   "metadata": {},
   "outputs": [],
   "source": []
  }
 ],
 "metadata": {
  "colab": {
   "name": "Untitled19.ipynb",
   "provenance": [],
   "version": "0.3.2"
  },
  "kernelspec": {
   "display_name": "Python 3",
   "language": "python",
   "name": "python3"
  },
  "language_info": {
   "codemirror_mode": {
    "name": "ipython",
    "version": 3
   },
   "file_extension": ".py",
   "mimetype": "text/x-python",
   "name": "python",
   "nbconvert_exporter": "python",
   "pygments_lexer": "ipython3",
   "version": "3.7.3"
  }
 },
 "nbformat": 4,
 "nbformat_minor": 1
}
