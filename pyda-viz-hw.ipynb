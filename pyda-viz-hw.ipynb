{
 "cells": [
  {
   "cell_type": "markdown",
   "metadata": {},
   "source": [
    "# Анализ открытых данных по г. Санкт-Петебургу\n",
    "\n",
    "##### Источники:  https://data.gov.spb.ru/ - портал \"Открытые данные Санкт-Петербурга\", Википедия"
   ]
  },
  {
   "cell_type": "code",
   "execution_count": 1,
   "metadata": {},
   "outputs": [],
   "source": [
    "import pandas as pd"
   ]
  },
  {
   "cell_type": "code",
   "execution_count": 2,
   "metadata": {},
   "outputs": [],
   "source": [
    "def prepare_data(value):\n",
    "    result = ''\n",
    "    if isinstance(value, str):\n",
    "         result = value.strip().replace(' район', '')\n",
    "    else:\n",
    "        result = value\n",
    "    \n",
    "    return result"
   ]
  },
  {
   "cell_type": "markdown",
   "metadata": {},
   "source": [
    "#### Территория"
   ]
  },
  {
   "cell_type": "code",
   "execution_count": 3,
   "metadata": {},
   "outputs": [],
   "source": [
    "df_adm_head = (\n",
    "    pd.read_csv(\"./data/Административно-территориальное деление/Административно-территориальное деление.csv\",\n",
    "                usecols=['name'],\n",
    "               )\n",
    "    )\n",
    "df_adm_head.rename(columns={'name': 'district'}, inplace=True)\n",
    "df_adm_head['district'] = df_adm_head.district.apply(prepare_data)\n",
    "#df_adm_head\n",
    "df_adm_stat = (\n",
    "    pd.read_csv(\"./data/Административно-территориальное деление/Население и площадь.csv\",\n",
    "                dtype={'population': int, 'area': float}\n",
    "               )\n",
    "    )\n",
    "df_adm_stat['district'] = df_adm_stat.district.apply(prepare_data)\n",
    "df_adm = df_adm_head.merge(df_adm_stat, how='left', left_on='district', right_on='district')\n",
    "#df_adm.head()"
   ]
  },
  {
   "cell_type": "code",
   "execution_count": 4,
   "metadata": {},
   "outputs": [],
   "source": [
    "df_adm_prom = (\n",
    "    pd.read_csv(\"./data/Административно-территориальное деление/Промзоны.csv\",\n",
    "                usecols=['name', 'district', 'area'],\n",
    "                dtype={'area': float}\n",
    "               )\n",
    "    )\n",
    "df_adm_prom['area'] = df_adm_prom['area'] * .01 # гектары в квадратные километры\n",
    "df_adm_prom = df_adm_prom.groupby('district').sum().reset_index()"
   ]
  },
  {
   "cell_type": "code",
   "execution_count": 5,
   "metadata": {
    "scrolled": true
   },
   "outputs": [],
   "source": [
    "df_adm_metro = pd.read_csv(\"./data/Дороги и транспорт/Метро.csv\")\n",
    "df_adm_metro = df_adm_metro.groupby('district').count().reset_index()"
   ]
  },
  {
   "cell_type": "code",
   "execution_count": 6,
   "metadata": {
    "scrolled": true
   },
   "outputs": [],
   "source": [
    "# подключаем данные по количеству зеленых насаждений городского значения\n",
    "df_green_1 = pd.read_csv(\"./data/Прочее/Зеленые насаждения общего пользования городского значения.csv\"\n",
    "                         , usecols=['district', 'reference_area_hectare']\n",
    "                         , decimal=\",\"\n",
    "                        )\n",
    "df_green_1 = df_green_1.groupby(['district']).sum().reset_index()\n",
    "df_green_1['area'] = df_green_1['reference_area_hectare'] * .01 # гектары в квадратные километры\n",
    "df_green_1.drop('reference_area_hectare', axis=1, inplace=True)\n",
    "\n",
    "# подключаем сюда зеленые насаждения местного значения\n",
    "df_green_2 = pd.read_csv(\"./data/Прочее/Зеленые насаждения общего пользования местного значения.csv\"\n",
    "                         , usecols=['district', 'reference_area_hectare']\n",
    "                        )\n",
    "df_green_2 = df_green_2.groupby(['district']).sum().reset_index()\n",
    "df_green_2['area'] = df_green_2['reference_area_hectare'] * .01 # гектары в квадратные километры\n",
    "df_green_2.drop('reference_area_hectare', axis=1, inplace=True)\n",
    "\n",
    "# получаем общую площадь зелёных насаждений\n",
    "df_green_total = df_green_1.merge(df_green_2, how='outer', left_on='district', right_on='district').fillna(0)\n",
    "df_green_total['area'] = df_green_total['area_x'] + df_green_total['area_y']\n",
    "df_green_total.drop(['area_x', 'area_y'], axis=1, inplace=True)\n",
    "#df_green_total"
   ]
  },
  {
   "cell_type": "code",
   "execution_count": 7,
   "metadata": {},
   "outputs": [],
   "source": [
    "# подключаем данные по установленным видеокамерам и терминалам\n",
    "df_video = pd.read_csv(\"./data/Информационные технологии/Адреса установки видеокамер.csv\"\n",
    "                         , usecols=['district', 'amount']\n",
    "                        )\n",
    "df_video = df_video.groupby(['district']).sum().reset_index()\n",
    "\n",
    "df_terminal = pd.read_csv(\"./data/Информационные технологии/Адреса установки терминалов Гражданин-Полиция.csv\"\n",
    "                         , usecols=['district', 'amount']\n",
    "                        )\n",
    "df_terminal = df_terminal.groupby(['district']).sum().reset_index()"
   ]
  },
  {
   "cell_type": "code",
   "execution_count": 8,
   "metadata": {},
   "outputs": [
    {
     "data": {
      "text/html": [
       "<div>\n",
       "<style scoped>\n",
       "    .dataframe tbody tr th:only-of-type {\n",
       "        vertical-align: middle;\n",
       "    }\n",
       "\n",
       "    .dataframe tbody tr th {\n",
       "        vertical-align: top;\n",
       "    }\n",
       "\n",
       "    .dataframe thead th {\n",
       "        text-align: right;\n",
       "    }\n",
       "</style>\n",
       "<table border=\"1\" class=\"dataframe\">\n",
       "  <thead>\n",
       "    <tr style=\"text-align: right;\">\n",
       "      <th></th>\n",
       "      <th>district</th>\n",
       "      <th>population</th>\n",
       "      <th>total_area</th>\n",
       "      <th>prom_area</th>\n",
       "      <th>green_area</th>\n",
       "      <th>vcam_count</th>\n",
       "      <th>term_count</th>\n",
       "      <th>metro_count</th>\n",
       "    </tr>\n",
       "  </thead>\n",
       "  <tbody>\n",
       "    <tr>\n",
       "      <th>0</th>\n",
       "      <td>Центральный</td>\n",
       "      <td>220217</td>\n",
       "      <td>17.77</td>\n",
       "      <td>0.0000</td>\n",
       "      <td>0.931408</td>\n",
       "      <td>866</td>\n",
       "      <td>3</td>\n",
       "      <td>11</td>\n",
       "    </tr>\n",
       "    <tr>\n",
       "      <th>1</th>\n",
       "      <td>Адмиралтейский</td>\n",
       "      <td>163785</td>\n",
       "      <td>13.82</td>\n",
       "      <td>0.0000</td>\n",
       "      <td>1.086506</td>\n",
       "      <td>784</td>\n",
       "      <td>2</td>\n",
       "      <td>9</td>\n",
       "    </tr>\n",
       "    <tr>\n",
       "      <th>2</th>\n",
       "      <td>Выборгский</td>\n",
       "      <td>502988</td>\n",
       "      <td>115.52</td>\n",
       "      <td>7.9430</td>\n",
       "      <td>7.590716</td>\n",
       "      <td>3433</td>\n",
       "      <td>4</td>\n",
       "      <td>6</td>\n",
       "    </tr>\n",
       "    <tr>\n",
       "      <th>3</th>\n",
       "      <td>Красносельский</td>\n",
       "      <td>369766</td>\n",
       "      <td>90.49</td>\n",
       "      <td>20.6730</td>\n",
       "      <td>5.944252</td>\n",
       "      <td>769</td>\n",
       "      <td>32</td>\n",
       "      <td>0</td>\n",
       "    </tr>\n",
       "    <tr>\n",
       "      <th>4</th>\n",
       "      <td>Василеостровский</td>\n",
       "      <td>209188</td>\n",
       "      <td>16.70</td>\n",
       "      <td>0.0000</td>\n",
       "      <td>1.397288</td>\n",
       "      <td>644</td>\n",
       "      <td>0</td>\n",
       "      <td>2</td>\n",
       "    </tr>\n",
       "    <tr>\n",
       "      <th>5</th>\n",
       "      <td>Фрунзенский</td>\n",
       "      <td>406029</td>\n",
       "      <td>37.52</td>\n",
       "      <td>5.5150</td>\n",
       "      <td>3.995350</td>\n",
       "      <td>2807</td>\n",
       "      <td>0</td>\n",
       "      <td>4</td>\n",
       "    </tr>\n",
       "    <tr>\n",
       "      <th>6</th>\n",
       "      <td>Московский</td>\n",
       "      <td>343935</td>\n",
       "      <td>73.07</td>\n",
       "      <td>4.8540</td>\n",
       "      <td>4.359597</td>\n",
       "      <td>1097</td>\n",
       "      <td>15</td>\n",
       "      <td>6</td>\n",
       "    </tr>\n",
       "    <tr>\n",
       "      <th>7</th>\n",
       "      <td>Петродворцовый</td>\n",
       "      <td>138146</td>\n",
       "      <td>107.08</td>\n",
       "      <td>8.6319</td>\n",
       "      <td>11.452358</td>\n",
       "      <td>384</td>\n",
       "      <td>0</td>\n",
       "      <td>0</td>\n",
       "    </tr>\n",
       "    <tr>\n",
       "      <th>8</th>\n",
       "      <td>Калининский</td>\n",
       "      <td>535428</td>\n",
       "      <td>40.18</td>\n",
       "      <td>0.0000</td>\n",
       "      <td>5.601719</td>\n",
       "      <td>4978</td>\n",
       "      <td>0</td>\n",
       "      <td>5</td>\n",
       "    </tr>\n",
       "    <tr>\n",
       "      <th>9</th>\n",
       "      <td>Пушкинский</td>\n",
       "      <td>193180</td>\n",
       "      <td>240.09</td>\n",
       "      <td>20.0480</td>\n",
       "      <td>6.605971</td>\n",
       "      <td>271</td>\n",
       "      <td>1</td>\n",
       "      <td>0</td>\n",
       "    </tr>\n",
       "    <tr>\n",
       "      <th>10</th>\n",
       "      <td>Кировский</td>\n",
       "      <td>336742</td>\n",
       "      <td>47.46</td>\n",
       "      <td>0.0000</td>\n",
       "      <td>4.239370</td>\n",
       "      <td>888</td>\n",
       "      <td>19</td>\n",
       "      <td>5</td>\n",
       "    </tr>\n",
       "    <tr>\n",
       "      <th>11</th>\n",
       "      <td>Курортный</td>\n",
       "      <td>76061</td>\n",
       "      <td>268.19</td>\n",
       "      <td>2.1800</td>\n",
       "      <td>3.395230</td>\n",
       "      <td>1119</td>\n",
       "      <td>0</td>\n",
       "      <td>0</td>\n",
       "    </tr>\n",
       "    <tr>\n",
       "      <th>12</th>\n",
       "      <td>Красногвардейский</td>\n",
       "      <td>351575</td>\n",
       "      <td>56.35</td>\n",
       "      <td>9.4200</td>\n",
       "      <td>2.946097</td>\n",
       "      <td>2388</td>\n",
       "      <td>0</td>\n",
       "      <td>2</td>\n",
       "    </tr>\n",
       "    <tr>\n",
       "      <th>13</th>\n",
       "      <td>Колпинский</td>\n",
       "      <td>187585</td>\n",
       "      <td>102.25</td>\n",
       "      <td>24.3930</td>\n",
       "      <td>2.564797</td>\n",
       "      <td>1291</td>\n",
       "      <td>0</td>\n",
       "      <td>0</td>\n",
       "    </tr>\n",
       "    <tr>\n",
       "      <th>14</th>\n",
       "      <td>Невский</td>\n",
       "      <td>511476</td>\n",
       "      <td>60.66</td>\n",
       "      <td>6.0500</td>\n",
       "      <td>4.491930</td>\n",
       "      <td>2465</td>\n",
       "      <td>5</td>\n",
       "      <td>7</td>\n",
       "    </tr>\n",
       "    <tr>\n",
       "      <th>15</th>\n",
       "      <td>Кронштадтский</td>\n",
       "      <td>44477</td>\n",
       "      <td>19.53</td>\n",
       "      <td>1.8524</td>\n",
       "      <td>0.531802</td>\n",
       "      <td>401</td>\n",
       "      <td>9</td>\n",
       "      <td>0</td>\n",
       "    </tr>\n",
       "    <tr>\n",
       "      <th>16</th>\n",
       "      <td>Приморский</td>\n",
       "      <td>555366</td>\n",
       "      <td>109.90</td>\n",
       "      <td>14.5733</td>\n",
       "      <td>6.261575</td>\n",
       "      <td>1273</td>\n",
       "      <td>0</td>\n",
       "      <td>5</td>\n",
       "    </tr>\n",
       "    <tr>\n",
       "      <th>17</th>\n",
       "      <td>Петроградский</td>\n",
       "      <td>135635</td>\n",
       "      <td>19.54</td>\n",
       "      <td>0.0000</td>\n",
       "      <td>2.355076</td>\n",
       "      <td>2313</td>\n",
       "      <td>38</td>\n",
       "      <td>6</td>\n",
       "    </tr>\n",
       "  </tbody>\n",
       "</table>\n",
       "</div>"
      ],
      "text/plain": [
       "             district  population  total_area  prom_area  green_area  \\\n",
       "0         Центральный      220217       17.77     0.0000    0.931408   \n",
       "1      Адмиралтейский      163785       13.82     0.0000    1.086506   \n",
       "2          Выборгский      502988      115.52     7.9430    7.590716   \n",
       "3      Красносельский      369766       90.49    20.6730    5.944252   \n",
       "4    Василеостровский      209188       16.70     0.0000    1.397288   \n",
       "5         Фрунзенский      406029       37.52     5.5150    3.995350   \n",
       "6          Московский      343935       73.07     4.8540    4.359597   \n",
       "7      Петродворцовый      138146      107.08     8.6319   11.452358   \n",
       "8         Калининский      535428       40.18     0.0000    5.601719   \n",
       "9          Пушкинский      193180      240.09    20.0480    6.605971   \n",
       "10          Кировский      336742       47.46     0.0000    4.239370   \n",
       "11          Курортный       76061      268.19     2.1800    3.395230   \n",
       "12  Красногвардейский      351575       56.35     9.4200    2.946097   \n",
       "13         Колпинский      187585      102.25    24.3930    2.564797   \n",
       "14            Невский      511476       60.66     6.0500    4.491930   \n",
       "15      Кронштадтский       44477       19.53     1.8524    0.531802   \n",
       "16         Приморский      555366      109.90    14.5733    6.261575   \n",
       "17      Петроградский      135635       19.54     0.0000    2.355076   \n",
       "\n",
       "    vcam_count  term_count  metro_count  \n",
       "0          866           3           11  \n",
       "1          784           2            9  \n",
       "2         3433           4            6  \n",
       "3          769          32            0  \n",
       "4          644           0            2  \n",
       "5         2807           0            4  \n",
       "6         1097          15            6  \n",
       "7          384           0            0  \n",
       "8         4978           0            5  \n",
       "9          271           1            0  \n",
       "10         888          19            5  \n",
       "11        1119           0            0  \n",
       "12        2388           0            2  \n",
       "13        1291           0            0  \n",
       "14        2465           5            7  \n",
       "15         401           9            0  \n",
       "16        1273           0            5  \n",
       "17        2313          38            6  "
      ]
     },
     "execution_count": 8,
     "metadata": {},
     "output_type": "execute_result"
    }
   ],
   "source": [
    "# сливаем все данные в первую таблицу для анализа:\n",
    "\n",
    "# население и площади\n",
    "df_1 = df_adm.merge(df_adm_prom, left_on='district', right_on='district', how='left')\n",
    "#df_1.drop('district', axis=1, inplace=True)\n",
    "df_1.fillna(0, inplace=True)\n",
    "df_1.rename(columns={'area_x': 'total_area', 'area_y': 'prom_area'}, inplace=True)\n",
    "\n",
    "# зелёные насаждения\n",
    "df_1 = df_1.merge(df_green_total, left_on='district', right_on='district', how='left')\n",
    "#df_1.drop('district', axis=1, inplace=True)\n",
    "df_1.fillna(0, inplace=True)\n",
    "df_1.rename(columns={'area': 'green_area'}, inplace=True)\n",
    "\n",
    "# безопасность:\n",
    "df_1 = df_1.merge(df_video, left_on='district', right_on='district', how='left')\n",
    "#df_1.drop('district', axis=1, inplace=True)\n",
    "df_1.fillna(0, inplace=True)\n",
    "df_1.rename(columns={'amount': 'vcam_count'}, inplace=True)\n",
    "\n",
    "df_1 = df_1.merge(df_terminal, left_on='district', right_on='district', how='left')\n",
    "#df_1.drop('district', axis=1, inplace=True)\n",
    "df_1.fillna(0, inplace=True)\n",
    "df_1.rename(columns={'amount': 'term_count'}, inplace=True)\n",
    "\n",
    "\n",
    "# метро\n",
    "df_1 = df_1.merge(df_adm_metro, left_on='district', right_on='district', how='left')\n",
    "#df_1.drop('district', axis=1, inplace=True)\n",
    "df_1.fillna(0, inplace=True)\n",
    "df_1.rename(columns={'name': 'metro_count'}, inplace=True)\n",
    "\n",
    "df_1.metro_count = df_1.metro_count.astype(int)\n",
    "df_1.term_count = df_1.term_count.astype(int)\n",
    "df_1"
   ]
  },
  {
   "cell_type": "markdown",
   "metadata": {},
   "source": [
    "#### Медицина"
   ]
  },
  {
   "cell_type": "code",
   "execution_count": 9,
   "metadata": {},
   "outputs": [
    {
     "data": {
      "text/html": [
       "<div>\n",
       "<style scoped>\n",
       "    .dataframe tbody tr th:only-of-type {\n",
       "        vertical-align: middle;\n",
       "    }\n",
       "\n",
       "    .dataframe tbody tr th {\n",
       "        vertical-align: top;\n",
       "    }\n",
       "\n",
       "    .dataframe thead th {\n",
       "        text-align: right;\n",
       "    }\n",
       "</style>\n",
       "<table border=\"1\" class=\"dataframe\">\n",
       "  <thead>\n",
       "    <tr style=\"text-align: right;\">\n",
       "      <th></th>\n",
       "      <th>district</th>\n",
       "      <th>population</th>\n",
       "      <th>total_area</th>\n",
       "      <th>child_polyclinic</th>\n",
       "      <th>child_hospital</th>\n",
       "      <th>polyclinic</th>\n",
       "      <th>hospital</th>\n",
       "      <th>ambulance</th>\n",
       "    </tr>\n",
       "  </thead>\n",
       "  <tbody>\n",
       "    <tr>\n",
       "      <th>0</th>\n",
       "      <td>Центральный</td>\n",
       "      <td>220217</td>\n",
       "      <td>17.77</td>\n",
       "      <td>2</td>\n",
       "      <td>1</td>\n",
       "      <td>4</td>\n",
       "      <td>1</td>\n",
       "      <td>1</td>\n",
       "    </tr>\n",
       "    <tr>\n",
       "      <th>1</th>\n",
       "      <td>Адмиралтейский</td>\n",
       "      <td>163785</td>\n",
       "      <td>13.82</td>\n",
       "      <td>0</td>\n",
       "      <td>1</td>\n",
       "      <td>4</td>\n",
       "      <td>2</td>\n",
       "      <td>0</td>\n",
       "    </tr>\n",
       "    <tr>\n",
       "      <th>2</th>\n",
       "      <td>Выборгский</td>\n",
       "      <td>502988</td>\n",
       "      <td>115.52</td>\n",
       "      <td>5</td>\n",
       "      <td>1</td>\n",
       "      <td>6</td>\n",
       "      <td>2</td>\n",
       "      <td>0</td>\n",
       "    </tr>\n",
       "    <tr>\n",
       "      <th>3</th>\n",
       "      <td>Красносельский</td>\n",
       "      <td>369766</td>\n",
       "      <td>90.49</td>\n",
       "      <td>0</td>\n",
       "      <td>1</td>\n",
       "      <td>3</td>\n",
       "      <td>1</td>\n",
       "      <td>0</td>\n",
       "    </tr>\n",
       "    <tr>\n",
       "      <th>4</th>\n",
       "      <td>Василеостровский</td>\n",
       "      <td>209188</td>\n",
       "      <td>16.70</td>\n",
       "      <td>0</td>\n",
       "      <td>1</td>\n",
       "      <td>2</td>\n",
       "      <td>1</td>\n",
       "      <td>0</td>\n",
       "    </tr>\n",
       "    <tr>\n",
       "      <th>5</th>\n",
       "      <td>Фрунзенский</td>\n",
       "      <td>406029</td>\n",
       "      <td>37.52</td>\n",
       "      <td>0</td>\n",
       "      <td>1</td>\n",
       "      <td>5</td>\n",
       "      <td>0</td>\n",
       "      <td>0</td>\n",
       "    </tr>\n",
       "    <tr>\n",
       "      <th>6</th>\n",
       "      <td>Московский</td>\n",
       "      <td>343935</td>\n",
       "      <td>73.07</td>\n",
       "      <td>1</td>\n",
       "      <td>0</td>\n",
       "      <td>4</td>\n",
       "      <td>2</td>\n",
       "      <td>0</td>\n",
       "    </tr>\n",
       "    <tr>\n",
       "      <th>7</th>\n",
       "      <td>Петродворцовый</td>\n",
       "      <td>138146</td>\n",
       "      <td>107.08</td>\n",
       "      <td>0</td>\n",
       "      <td>0</td>\n",
       "      <td>1</td>\n",
       "      <td>1</td>\n",
       "      <td>1</td>\n",
       "    </tr>\n",
       "    <tr>\n",
       "      <th>8</th>\n",
       "      <td>Калининский</td>\n",
       "      <td>535428</td>\n",
       "      <td>40.18</td>\n",
       "      <td>1</td>\n",
       "      <td>0</td>\n",
       "      <td>6</td>\n",
       "      <td>2</td>\n",
       "      <td>0</td>\n",
       "    </tr>\n",
       "    <tr>\n",
       "      <th>9</th>\n",
       "      <td>Пушкинский</td>\n",
       "      <td>193180</td>\n",
       "      <td>240.09</td>\n",
       "      <td>1</td>\n",
       "      <td>0</td>\n",
       "      <td>1</td>\n",
       "      <td>1</td>\n",
       "      <td>1</td>\n",
       "    </tr>\n",
       "    <tr>\n",
       "      <th>10</th>\n",
       "      <td>Кировский</td>\n",
       "      <td>336742</td>\n",
       "      <td>47.46</td>\n",
       "      <td>0</td>\n",
       "      <td>0</td>\n",
       "      <td>3</td>\n",
       "      <td>1</td>\n",
       "      <td>0</td>\n",
       "    </tr>\n",
       "    <tr>\n",
       "      <th>11</th>\n",
       "      <td>Курортный</td>\n",
       "      <td>76061</td>\n",
       "      <td>268.19</td>\n",
       "      <td>0</td>\n",
       "      <td>0</td>\n",
       "      <td>0</td>\n",
       "      <td>1</td>\n",
       "      <td>0</td>\n",
       "    </tr>\n",
       "    <tr>\n",
       "      <th>12</th>\n",
       "      <td>Красногвардейский</td>\n",
       "      <td>351575</td>\n",
       "      <td>56.35</td>\n",
       "      <td>1</td>\n",
       "      <td>0</td>\n",
       "      <td>3</td>\n",
       "      <td>0</td>\n",
       "      <td>0</td>\n",
       "    </tr>\n",
       "    <tr>\n",
       "      <th>13</th>\n",
       "      <td>Колпинский</td>\n",
       "      <td>187585</td>\n",
       "      <td>102.25</td>\n",
       "      <td>1</td>\n",
       "      <td>1</td>\n",
       "      <td>4</td>\n",
       "      <td>1</td>\n",
       "      <td>1</td>\n",
       "    </tr>\n",
       "    <tr>\n",
       "      <th>14</th>\n",
       "      <td>Невский</td>\n",
       "      <td>511476</td>\n",
       "      <td>60.66</td>\n",
       "      <td>3</td>\n",
       "      <td>0</td>\n",
       "      <td>8</td>\n",
       "      <td>1</td>\n",
       "      <td>0</td>\n",
       "    </tr>\n",
       "    <tr>\n",
       "      <th>15</th>\n",
       "      <td>Кронштадтский</td>\n",
       "      <td>44477</td>\n",
       "      <td>19.53</td>\n",
       "      <td>0</td>\n",
       "      <td>0</td>\n",
       "      <td>1</td>\n",
       "      <td>1</td>\n",
       "      <td>0</td>\n",
       "    </tr>\n",
       "    <tr>\n",
       "      <th>16</th>\n",
       "      <td>Приморский</td>\n",
       "      <td>555366</td>\n",
       "      <td>109.90</td>\n",
       "      <td>1</td>\n",
       "      <td>0</td>\n",
       "      <td>5</td>\n",
       "      <td>0</td>\n",
       "      <td>0</td>\n",
       "    </tr>\n",
       "    <tr>\n",
       "      <th>17</th>\n",
       "      <td>Петроградский</td>\n",
       "      <td>135635</td>\n",
       "      <td>19.54</td>\n",
       "      <td>1</td>\n",
       "      <td>0</td>\n",
       "      <td>3</td>\n",
       "      <td>2</td>\n",
       "      <td>0</td>\n",
       "    </tr>\n",
       "  </tbody>\n",
       "</table>\n",
       "</div>"
      ],
      "text/plain": [
       "             district  population  total_area  child_polyclinic  \\\n",
       "0         Центральный      220217       17.77                 2   \n",
       "1      Адмиралтейский      163785       13.82                 0   \n",
       "2          Выборгский      502988      115.52                 5   \n",
       "3      Красносельский      369766       90.49                 0   \n",
       "4    Василеостровский      209188       16.70                 0   \n",
       "5         Фрунзенский      406029       37.52                 0   \n",
       "6          Московский      343935       73.07                 1   \n",
       "7      Петродворцовый      138146      107.08                 0   \n",
       "8         Калининский      535428       40.18                 1   \n",
       "9          Пушкинский      193180      240.09                 1   \n",
       "10          Кировский      336742       47.46                 0   \n",
       "11          Курортный       76061      268.19                 0   \n",
       "12  Красногвардейский      351575       56.35                 1   \n",
       "13         Колпинский      187585      102.25                 1   \n",
       "14            Невский      511476       60.66                 3   \n",
       "15      Кронштадтский       44477       19.53                 0   \n",
       "16         Приморский      555366      109.90                 1   \n",
       "17      Петроградский      135635       19.54                 1   \n",
       "\n",
       "    child_hospital  polyclinic  hospital  ambulance  \n",
       "0                1           4         1          1  \n",
       "1                1           4         2          0  \n",
       "2                1           6         2          0  \n",
       "3                1           3         1          0  \n",
       "4                1           2         1          0  \n",
       "5                1           5         0          0  \n",
       "6                0           4         2          0  \n",
       "7                0           1         1          1  \n",
       "8                0           6         2          0  \n",
       "9                0           1         1          1  \n",
       "10               0           3         1          0  \n",
       "11               0           0         1          0  \n",
       "12               0           3         0          0  \n",
       "13               1           4         1          1  \n",
       "14               0           8         1          0  \n",
       "15               0           1         1          0  \n",
       "16               0           5         0          0  \n",
       "17               0           3         2          0  "
      ]
     },
     "execution_count": 9,
     "metadata": {},
     "output_type": "execute_result"
    }
   ],
   "source": [
    "# собираем вторую таблицу для анализа (медицинские организации)\n",
    "df_med = pd.read_csv(\"./data/Здравоохранение/Лечебно-профилактические учреждения.csv\", usecols=['name', 'type', 'district'])\n",
    "\n",
    "df_med['child_polyclinic'] = df_med[ df_med['type'] == 'Детские поликлиники']['name']\n",
    "df_med['child_hospital'] = df_med[ df_med['type'] == 'Детские городские больницы (кроме областных)']['name']\n",
    "df_med['polyclinic'] = df_med[ df_med['type'] == 'Поликлиники']['name']\n",
    "df_med['hospital'] = df_med[ df_med['type'] == 'Городские больницы (включая клинические)']['name']\n",
    "df_med['ambulance'] = df_med[ df_med['type'] == 'Станции скорой медицинской помощи']['name']\n",
    "df_med_group = df_med.groupby('district').count().reset_index()\n",
    "df_med_group.drop(['name', 'type'], axis=1, inplace=True)\n",
    "\n",
    "df_2 = df_adm.merge(df_med_group, left_on='district', right_on='district', how='left')\n",
    "#df_2.drop('district', axis=1, inplace=True)\n",
    "df_2.fillna(0, inplace=True)\n",
    "\n",
    "df_2.rename(columns={'area': 'total_area'}, inplace=True)\n",
    "df_2"
   ]
  },
  {
   "cell_type": "markdown",
   "metadata": {},
   "source": [
    "#### Культура"
   ]
  },
  {
   "cell_type": "code",
   "execution_count": 10,
   "metadata": {
    "scrolled": false
   },
   "outputs": [
    {
     "data": {
      "text/html": [
       "<div>\n",
       "<style scoped>\n",
       "    .dataframe tbody tr th:only-of-type {\n",
       "        vertical-align: middle;\n",
       "    }\n",
       "\n",
       "    .dataframe tbody tr th {\n",
       "        vertical-align: top;\n",
       "    }\n",
       "\n",
       "    .dataframe thead th {\n",
       "        text-align: right;\n",
       "    }\n",
       "</style>\n",
       "<table border=\"1\" class=\"dataframe\">\n",
       "  <thead>\n",
       "    <tr style=\"text-align: right;\">\n",
       "      <th></th>\n",
       "      <th>district</th>\n",
       "      <th>population</th>\n",
       "      <th>area</th>\n",
       "      <th>theatre_count</th>\n",
       "      <th>museum_count</th>\n",
       "      <th>landmarks_count</th>\n",
       "      <th>cultural_heritage_site_count</th>\n",
       "    </tr>\n",
       "  </thead>\n",
       "  <tbody>\n",
       "    <tr>\n",
       "      <th>0</th>\n",
       "      <td>Центральный</td>\n",
       "      <td>220217</td>\n",
       "      <td>17.77</td>\n",
       "      <td>32</td>\n",
       "      <td>62</td>\n",
       "      <td>117</td>\n",
       "      <td>1873</td>\n",
       "    </tr>\n",
       "    <tr>\n",
       "      <th>1</th>\n",
       "      <td>Адмиралтейский</td>\n",
       "      <td>163785</td>\n",
       "      <td>13.82</td>\n",
       "      <td>10</td>\n",
       "      <td>31</td>\n",
       "      <td>106</td>\n",
       "      <td>1027</td>\n",
       "    </tr>\n",
       "    <tr>\n",
       "      <th>2</th>\n",
       "      <td>Выборгский</td>\n",
       "      <td>502988</td>\n",
       "      <td>115.52</td>\n",
       "      <td>1</td>\n",
       "      <td>7</td>\n",
       "      <td>32</td>\n",
       "      <td>346</td>\n",
       "    </tr>\n",
       "    <tr>\n",
       "      <th>3</th>\n",
       "      <td>Красносельский</td>\n",
       "      <td>369766</td>\n",
       "      <td>90.49</td>\n",
       "      <td>0</td>\n",
       "      <td>0</td>\n",
       "      <td>8</td>\n",
       "      <td>113</td>\n",
       "    </tr>\n",
       "    <tr>\n",
       "      <th>4</th>\n",
       "      <td>Василеостровский</td>\n",
       "      <td>209188</td>\n",
       "      <td>16.70</td>\n",
       "      <td>3</td>\n",
       "      <td>25</td>\n",
       "      <td>33</td>\n",
       "      <td>795</td>\n",
       "    </tr>\n",
       "    <tr>\n",
       "      <th>5</th>\n",
       "      <td>Фрунзенский</td>\n",
       "      <td>406029</td>\n",
       "      <td>37.52</td>\n",
       "      <td>1</td>\n",
       "      <td>3</td>\n",
       "      <td>15</td>\n",
       "      <td>213</td>\n",
       "    </tr>\n",
       "    <tr>\n",
       "      <th>6</th>\n",
       "      <td>Московский</td>\n",
       "      <td>343935</td>\n",
       "      <td>73.07</td>\n",
       "      <td>2</td>\n",
       "      <td>6</td>\n",
       "      <td>13</td>\n",
       "      <td>328</td>\n",
       "    </tr>\n",
       "    <tr>\n",
       "      <th>7</th>\n",
       "      <td>Петродворцовый</td>\n",
       "      <td>138146</td>\n",
       "      <td>107.08</td>\n",
       "      <td>0</td>\n",
       "      <td>4</td>\n",
       "      <td>22</td>\n",
       "      <td>1052</td>\n",
       "    </tr>\n",
       "    <tr>\n",
       "      <th>8</th>\n",
       "      <td>Калининский</td>\n",
       "      <td>535428</td>\n",
       "      <td>40.18</td>\n",
       "      <td>0</td>\n",
       "      <td>5</td>\n",
       "      <td>18</td>\n",
       "      <td>269</td>\n",
       "    </tr>\n",
       "    <tr>\n",
       "      <th>9</th>\n",
       "      <td>Пушкинский</td>\n",
       "      <td>193180</td>\n",
       "      <td>240.09</td>\n",
       "      <td>0</td>\n",
       "      <td>7</td>\n",
       "      <td>34</td>\n",
       "      <td>926</td>\n",
       "    </tr>\n",
       "    <tr>\n",
       "      <th>10</th>\n",
       "      <td>Кировский</td>\n",
       "      <td>336742</td>\n",
       "      <td>47.46</td>\n",
       "      <td>6</td>\n",
       "      <td>5</td>\n",
       "      <td>19</td>\n",
       "      <td>167</td>\n",
       "    </tr>\n",
       "    <tr>\n",
       "      <th>11</th>\n",
       "      <td>Курортный</td>\n",
       "      <td>76061</td>\n",
       "      <td>268.19</td>\n",
       "      <td>0</td>\n",
       "      <td>2</td>\n",
       "      <td>11</td>\n",
       "      <td>196</td>\n",
       "    </tr>\n",
       "    <tr>\n",
       "      <th>12</th>\n",
       "      <td>Красногвардейский</td>\n",
       "      <td>351575</td>\n",
       "      <td>56.35</td>\n",
       "      <td>1</td>\n",
       "      <td>2</td>\n",
       "      <td>22</td>\n",
       "      <td>115</td>\n",
       "    </tr>\n",
       "    <tr>\n",
       "      <th>13</th>\n",
       "      <td>Колпинский</td>\n",
       "      <td>187585</td>\n",
       "      <td>102.25</td>\n",
       "      <td>0</td>\n",
       "      <td>1</td>\n",
       "      <td>8</td>\n",
       "      <td>83</td>\n",
       "    </tr>\n",
       "    <tr>\n",
       "      <th>14</th>\n",
       "      <td>Невский</td>\n",
       "      <td>511476</td>\n",
       "      <td>60.66</td>\n",
       "      <td>1</td>\n",
       "      <td>7</td>\n",
       "      <td>40</td>\n",
       "      <td>236</td>\n",
       "    </tr>\n",
       "    <tr>\n",
       "      <th>15</th>\n",
       "      <td>Кронштадтский</td>\n",
       "      <td>44477</td>\n",
       "      <td>19.53</td>\n",
       "      <td>0</td>\n",
       "      <td>2</td>\n",
       "      <td>16</td>\n",
       "      <td>388</td>\n",
       "    </tr>\n",
       "    <tr>\n",
       "      <th>16</th>\n",
       "      <td>Приморский</td>\n",
       "      <td>555366</td>\n",
       "      <td>109.90</td>\n",
       "      <td>2</td>\n",
       "      <td>4</td>\n",
       "      <td>28</td>\n",
       "      <td>126</td>\n",
       "    </tr>\n",
       "    <tr>\n",
       "      <th>17</th>\n",
       "      <td>Петроградский</td>\n",
       "      <td>135635</td>\n",
       "      <td>19.54</td>\n",
       "      <td>3</td>\n",
       "      <td>24</td>\n",
       "      <td>48</td>\n",
       "      <td>731</td>\n",
       "    </tr>\n",
       "  </tbody>\n",
       "</table>\n",
       "</div>"
      ],
      "text/plain": [
       "             district  population    area  theatre_count  museum_count  \\\n",
       "0         Центральный      220217   17.77             32            62   \n",
       "1      Адмиралтейский      163785   13.82             10            31   \n",
       "2          Выборгский      502988  115.52              1             7   \n",
       "3      Красносельский      369766   90.49              0             0   \n",
       "4    Василеостровский      209188   16.70              3            25   \n",
       "5         Фрунзенский      406029   37.52              1             3   \n",
       "6          Московский      343935   73.07              2             6   \n",
       "7      Петродворцовый      138146  107.08              0             4   \n",
       "8         Калининский      535428   40.18              0             5   \n",
       "9          Пушкинский      193180  240.09              0             7   \n",
       "10          Кировский      336742   47.46              6             5   \n",
       "11          Курортный       76061  268.19              0             2   \n",
       "12  Красногвардейский      351575   56.35              1             2   \n",
       "13         Колпинский      187585  102.25              0             1   \n",
       "14            Невский      511476   60.66              1             7   \n",
       "15      Кронштадтский       44477   19.53              0             2   \n",
       "16         Приморский      555366  109.90              2             4   \n",
       "17      Петроградский      135635   19.54              3            24   \n",
       "\n",
       "    landmarks_count  cultural_heritage_site_count  \n",
       "0               117                          1873  \n",
       "1               106                          1027  \n",
       "2                32                           346  \n",
       "3                 8                           113  \n",
       "4                33                           795  \n",
       "5                15                           213  \n",
       "6                13                           328  \n",
       "7                22                          1052  \n",
       "8                18                           269  \n",
       "9                34                           926  \n",
       "10               19                           167  \n",
       "11               11                           196  \n",
       "12               22                           115  \n",
       "13                8                            83  \n",
       "14               40                           236  \n",
       "15               16                           388  \n",
       "16               28                           126  \n",
       "17               48                           731  "
      ]
     },
     "execution_count": 10,
     "metadata": {},
     "output_type": "execute_result"
    }
   ],
   "source": [
    "df_theatre = pd.read_csv(\"./data/Туризм и отдых/Театры.csv\", usecols=['district', 'oid'])\n",
    "df_theatre['district'] = df_theatre.district.apply(prepare_data)\n",
    "df_theatre = df_theatre.groupby(['district']).count().reset_index()\n",
    "df_theatre.rename(columns={'oid': 'theatre_count'}, inplace=True)\n",
    "#df_theatre\n",
    "\n",
    "df_museum = pd.read_csv(\"./data/Туризм и отдых/Музеи.csv\", usecols=['district', 'oid'])\n",
    "df_museum = df_museum[ df_museum.district.notnull() ] # пожертвуем данными, где не известен район\n",
    "df_museum['district'] = df_museum.district.apply(prepare_data)\n",
    "df_museum = df_museum.groupby(['district']).count().reset_index()\n",
    "df_museum.rename(columns={'oid': 'museum_count'}, inplace=True)\n",
    "#df_museum\n",
    "\n",
    "df_landmarks = pd.read_csv(\"./data/Туризм и отдых/Достопримечательности.csv\", usecols=['district', 'oid'])\n",
    "df_landmarks = df_landmarks[ df_landmarks.district.notnull() ] # пожертвуем данными, где не известен район\n",
    "df_landmarks.district = df_landmarks.district.apply(prepare_data)\n",
    "df_landmarks = df_landmarks.groupby(['district']).count().reset_index()\n",
    "df_landmarks.rename(columns={'oid': 'landmarks_count'}, inplace=True)\n",
    "#df_landmarks\n",
    "\n",
    "df_culture = pd.read_csv(\"./data/Культура/Объекты культурного наследия.csv\", usecols=['district', 'number'])\n",
    "df_culture.district = df_culture.district.apply(prepare_data)\n",
    "df_culture = df_culture.groupby(['district']).count().reset_index()\n",
    "df_culture.rename(columns={'number': 'cultural_heritage_site_count'}, inplace=True)\n",
    "#df_culture\n",
    "\n",
    "# сливаем всё в третью таблицу для анализа\n",
    "\n",
    "df_3 = df_adm.merge(df_theatre, left_on='district', right_on='district', how='left')\n",
    "df_3 = df_3.merge(df_museum, left_on='district', right_on='district', how='left')\n",
    "df_3 = df_3.merge(df_landmarks, left_on='district', right_on='district', how='left')\n",
    "df_3 = df_3.merge(df_culture, left_on='district', right_on='district', how='left')\n",
    "df_3.fillna(0, inplace=True)\n",
    "df_3['theatre_count'] = df_3.theatre_count.astype(int)\n",
    "df_3['museum_count'] = df_3.museum_count.astype(int)\n",
    "df_3"
   ]
  },
  {
   "cell_type": "markdown",
   "metadata": {},
   "source": [
    "#### Дошкольные и школьные образовательные учреждения"
   ]
  },
  {
   "cell_type": "code",
   "execution_count": 11,
   "metadata": {},
   "outputs": [
    {
     "data": {
      "text/html": [
       "<div>\n",
       "<style scoped>\n",
       "    .dataframe tbody tr th:only-of-type {\n",
       "        vertical-align: middle;\n",
       "    }\n",
       "\n",
       "    .dataframe tbody tr th {\n",
       "        vertical-align: top;\n",
       "    }\n",
       "\n",
       "    .dataframe thead th {\n",
       "        text-align: right;\n",
       "    }\n",
       "</style>\n",
       "<table border=\"1\" class=\"dataframe\">\n",
       "  <thead>\n",
       "    <tr style=\"text-align: right;\">\n",
       "      <th></th>\n",
       "      <th>district</th>\n",
       "      <th>population</th>\n",
       "      <th>area</th>\n",
       "      <th>kindergarten_count</th>\n",
       "      <th>school_count</th>\n",
       "    </tr>\n",
       "  </thead>\n",
       "  <tbody>\n",
       "    <tr>\n",
       "      <th>0</th>\n",
       "      <td>Центральный</td>\n",
       "      <td>220217</td>\n",
       "      <td>17.77</td>\n",
       "      <td>66</td>\n",
       "      <td>43</td>\n",
       "    </tr>\n",
       "    <tr>\n",
       "      <th>1</th>\n",
       "      <td>Адмиралтейский</td>\n",
       "      <td>163785</td>\n",
       "      <td>13.82</td>\n",
       "      <td>43</td>\n",
       "      <td>76</td>\n",
       "    </tr>\n",
       "    <tr>\n",
       "      <th>2</th>\n",
       "      <td>Выборгский</td>\n",
       "      <td>502988</td>\n",
       "      <td>115.52</td>\n",
       "      <td>72</td>\n",
       "      <td>66</td>\n",
       "    </tr>\n",
       "    <tr>\n",
       "      <th>3</th>\n",
       "      <td>Красносельский</td>\n",
       "      <td>369766</td>\n",
       "      <td>90.49</td>\n",
       "      <td>76</td>\n",
       "      <td>98</td>\n",
       "    </tr>\n",
       "    <tr>\n",
       "      <th>4</th>\n",
       "      <td>Василеостровский</td>\n",
       "      <td>209188</td>\n",
       "      <td>16.70</td>\n",
       "      <td>40</td>\n",
       "      <td>25</td>\n",
       "    </tr>\n",
       "    <tr>\n",
       "      <th>5</th>\n",
       "      <td>Фрунзенский</td>\n",
       "      <td>406029</td>\n",
       "      <td>37.52</td>\n",
       "      <td>92</td>\n",
       "      <td>56</td>\n",
       "    </tr>\n",
       "    <tr>\n",
       "      <th>6</th>\n",
       "      <td>Московский</td>\n",
       "      <td>343935</td>\n",
       "      <td>73.07</td>\n",
       "      <td>71</td>\n",
       "      <td>37</td>\n",
       "    </tr>\n",
       "    <tr>\n",
       "      <th>7</th>\n",
       "      <td>Петродворцовый</td>\n",
       "      <td>138146</td>\n",
       "      <td>107.08</td>\n",
       "      <td>30</td>\n",
       "      <td>19</td>\n",
       "    </tr>\n",
       "    <tr>\n",
       "      <th>8</th>\n",
       "      <td>Калининский</td>\n",
       "      <td>535428</td>\n",
       "      <td>40.18</td>\n",
       "      <td>100</td>\n",
       "      <td>114</td>\n",
       "    </tr>\n",
       "    <tr>\n",
       "      <th>9</th>\n",
       "      <td>Пушкинский</td>\n",
       "      <td>193180</td>\n",
       "      <td>240.09</td>\n",
       "      <td>45</td>\n",
       "      <td>64</td>\n",
       "    </tr>\n",
       "    <tr>\n",
       "      <th>10</th>\n",
       "      <td>Кировский</td>\n",
       "      <td>336742</td>\n",
       "      <td>47.46</td>\n",
       "      <td>86</td>\n",
       "      <td>47</td>\n",
       "    </tr>\n",
       "    <tr>\n",
       "      <th>11</th>\n",
       "      <td>Курортный</td>\n",
       "      <td>76061</td>\n",
       "      <td>268.19</td>\n",
       "      <td>15</td>\n",
       "      <td>34</td>\n",
       "    </tr>\n",
       "    <tr>\n",
       "      <th>12</th>\n",
       "      <td>Красногвардейский</td>\n",
       "      <td>351575</td>\n",
       "      <td>56.35</td>\n",
       "      <td>66</td>\n",
       "      <td>45</td>\n",
       "    </tr>\n",
       "    <tr>\n",
       "      <th>13</th>\n",
       "      <td>Колпинский</td>\n",
       "      <td>187585</td>\n",
       "      <td>102.25</td>\n",
       "      <td>48</td>\n",
       "      <td>30</td>\n",
       "    </tr>\n",
       "    <tr>\n",
       "      <th>14</th>\n",
       "      <td>Невский</td>\n",
       "      <td>511476</td>\n",
       "      <td>60.66</td>\n",
       "      <td>111</td>\n",
       "      <td>70</td>\n",
       "    </tr>\n",
       "    <tr>\n",
       "      <th>15</th>\n",
       "      <td>Кронштадтский</td>\n",
       "      <td>44477</td>\n",
       "      <td>19.53</td>\n",
       "      <td>15</td>\n",
       "      <td>22</td>\n",
       "    </tr>\n",
       "    <tr>\n",
       "      <th>16</th>\n",
       "      <td>Приморский</td>\n",
       "      <td>555366</td>\n",
       "      <td>109.90</td>\n",
       "      <td>77</td>\n",
       "      <td>65</td>\n",
       "    </tr>\n",
       "    <tr>\n",
       "      <th>17</th>\n",
       "      <td>Петроградский</td>\n",
       "      <td>135635</td>\n",
       "      <td>19.54</td>\n",
       "      <td>54</td>\n",
       "      <td>20</td>\n",
       "    </tr>\n",
       "  </tbody>\n",
       "</table>\n",
       "</div>"
      ],
      "text/plain": [
       "             district  population    area  kindergarten_count  school_count\n",
       "0         Центральный      220217   17.77                  66            43\n",
       "1      Адмиралтейский      163785   13.82                  43            76\n",
       "2          Выборгский      502988  115.52                  72            66\n",
       "3      Красносельский      369766   90.49                  76            98\n",
       "4    Василеостровский      209188   16.70                  40            25\n",
       "5         Фрунзенский      406029   37.52                  92            56\n",
       "6          Московский      343935   73.07                  71            37\n",
       "7      Петродворцовый      138146  107.08                  30            19\n",
       "8         Калининский      535428   40.18                 100           114\n",
       "9          Пушкинский      193180  240.09                  45            64\n",
       "10          Кировский      336742   47.46                  86            47\n",
       "11          Курортный       76061  268.19                  15            34\n",
       "12  Красногвардейский      351575   56.35                  66            45\n",
       "13         Колпинский      187585  102.25                  48            30\n",
       "14            Невский      511476   60.66                 111            70\n",
       "15      Кронштадтский       44477   19.53                  15            22\n",
       "16         Приморский      555366  109.90                  77            65\n",
       "17      Петроградский      135635   19.54                  54            20"
      ]
     },
     "execution_count": 11,
     "metadata": {},
     "output_type": "execute_result"
    }
   ],
   "source": [
    "df_kindergarten = pd.read_csv(\"./data/Образование и наука/Перечень дошкольных образовательных организаций.csv\"\n",
    "                              , usecols=['district', 'name']\n",
    "                              )\n",
    "df_kindergarten['district'] = df_kindergarten.district.apply(prepare_data)\n",
    "df_kindergarten['district'].fillna('Центральный', inplace=True)\n",
    "df_kindergarten = df_kindergarten.groupby(['district']).count().reset_index()\n",
    "df_kindergarten.rename(columns={'name': 'kindergarten_count'}, inplace=True)\n",
    "\n",
    "df_school = pd.read_csv(\"./data/Образование и наука/Перечень образовательных организаций (школ, гимназий, лицеев).csv\"\n",
    "                              , usecols=['district', 'name']\n",
    "                              )\n",
    "df_school['district'] = df_school.district.apply(prepare_data)\n",
    "df_school = df_school.groupby(['district']).count().reset_index()\n",
    "df_school.rename(columns={'name': 'school_count'}, inplace=True)\n",
    "#df_school\n",
    "\n",
    "df_4 = df_adm.merge(df_kindergarten, left_on='district', right_on='district', how='left')\n",
    "df_4 = df_4.merge(df_school, left_on='district', right_on='district', how='left')\n",
    "df_4.fillna(0, inplace=True)\n",
    "df_4['kindergarten_count'] = df_4.kindergarten_count.astype(int)\n",
    "#df_4['museum_count'] = df_4.museum_count.astype(int)\n",
    "df_4"
   ]
  },
  {
   "cell_type": "code",
   "execution_count": null,
   "metadata": {},
   "outputs": [],
   "source": []
  },
  {
   "cell_type": "markdown",
   "metadata": {},
   "source": [
    "\n",
    "#### Cоотношение зеленых насаждений и промышленных зон к общей площади"
   ]
  },
  {
   "cell_type": "code",
   "execution_count": 49,
   "metadata": {},
   "outputs": [],
   "source": [
    "import matplotlib.pyplot as plt\n",
    "plt.rcParams['figure.figsize'] = [20, 10]"
   ]
  },
  {
   "cell_type": "code",
   "execution_count": 51,
   "metadata": {},
   "outputs": [
    {
     "data": {
      "text/plain": [
       "<matplotlib.axes._subplots.AxesSubplot at 0x10282438>"
      ]
     },
     "execution_count": 51,
     "metadata": {},
     "output_type": "execute_result"
    },
    {
     "data": {
      "image/png": "[encoded data removed]",
      "text/plain": [
       "<Figure size 1440x720 with 1 Axes>"
      ]
     },
     "metadata": {
      "needs_background": "light"
     },
     "output_type": "display_data"
    }
   ],
   "source": [
    "df_1_viz = df_1.set_index('district')\n",
    "df_1_viz['delta'] = df_1_viz['total_area'] - df_1_viz['prom_area'] - df_1_viz['green_area']\n",
    "df_1_viz = df_1_viz[['prom_area', 'green_area', 'delta']]\n",
    "df_1_viz.sort_values(by='delta', ascending=False, inplace=True)\n",
    "\n",
    "df_1_viz.index.name = 'Район'\n",
    "df_1_viz.columns =['Площадь промышленных зон, км2', 'Площадь зеленых насаждений, км2', 'Площадь остальных территорий, км2']\n",
    "\n",
    "df_1_viz.plot.bar(rot=75, stacked=True, title='Cоотношение зеленых насаждений и промышленных зон к общей площади')\n"
   ]
  },
  {
   "cell_type": "markdown",
   "metadata": {},
   "source": [
    "\n",
    "#### Плотность населения по районам"
   ]
  },
  {
   "cell_type": "code",
   "execution_count": 14,
   "metadata": {},
   "outputs": [],
   "source": [
    "import matplotlib.pyplot as plt\n",
    "plt.rcParams['figure.figsize'] = [20, 10]"
   ]
  },
  {
   "cell_type": "code",
   "execution_count": 15,
   "metadata": {},
   "outputs": [
    {
     "data": {
      "text/plain": [
       "Text(0.5, 1.0, 'Плотность населения районов Петербурга')"
      ]
     },
     "execution_count": 15,
     "metadata": {},
     "output_type": "execute_result"
    },
    {
     "data": {
      "image/png": "[encoded data removed]",
      "text/plain": [
       "<Figure size 1440x720 with 1 Axes>"
      ]
     },
     "metadata": {
      "needs_background": "light"
     },
     "output_type": "display_data"
    }
   ],
   "source": [
    "viz_2 = df_1\n",
    "viz_2['density'] = viz_2['population'] / viz_2['total_area']\n",
    "viz_2 = viz_2.sort_values(by='density')\n",
    "\n",
    "plt.barh(viz_2['district'], viz_2['density'])\n",
    "plt.xlabel('Жителей на квадратный километр')\n",
    "plt.ylabel('Район')\n",
    "plt.title('Плотность населения районов Петербурга')\n",
    "#plt.text(20000, 0.5, 'Most common name')\n",
    "#plt.text(25000, 1, 'dfhdfh')\n",
    "#plt.grid()"
   ]
  },
  {
   "cell_type": "markdown",
   "metadata": {},
   "source": [
    "#### Соотношение площади, населения и количества поликлиник"
   ]
  },
  {
   "cell_type": "code",
   "execution_count": 16,
   "metadata": {},
   "outputs": [],
   "source": [
    "import seaborn as sns"
   ]
  },
  {
   "cell_type": "code",
   "execution_count": 17,
   "metadata": {},
   "outputs": [
    {
     "data": {
      "text/plain": [
       "<seaborn.axisgrid.PairGrid at 0xc8c65f8>"
      ]
     },
     "execution_count": 17,
     "metadata": {},
     "output_type": "execute_result"
    },
    {
     "data": {
      "image/png": "[encoded data removed]",
      "text/plain": [
       "<Figure size 540x540 with 12 Axes>"
      ]
     },
     "metadata": {
      "needs_background": "light"
     },
     "output_type": "display_data"
    }
   ],
   "source": [
    "viz_3 = df_2\n",
    "\n",
    "sns_plot = sns.pairplot(viz_3[['total_area', 'population', 'polyclinic']])\n",
    "sns_plot\n",
    "#viz_3"
   ]
  },
  {
   "cell_type": "markdown",
   "metadata": {},
   "source": [
    "#### Количество объектов культурного наследия"
   ]
  },
  {
   "cell_type": "code",
   "execution_count": 52,
   "metadata": {
    "scrolled": true
   },
   "outputs": [
    {
     "data": {
      "text/plain": [
       "<matplotlib.axes._subplots.AxesSubplot at 0x127170f0>"
      ]
     },
     "execution_count": 52,
     "metadata": {},
     "output_type": "execute_result"
    },
    {
     "data": {
      "image/png": "[encoded data removed]",
      "text/plain": [
       "<Figure size 360x720 with 1 Axes>"
      ]
     },
     "metadata": {},
     "output_type": "display_data"
    }
   ],
   "source": [
    "plt.rcParams['figure.figsize'] = [5, 10]\n",
    "viz_4 = df_3.sort_values(by='cultural_heritage_site_count', ascending=False)\n",
    "viz_4 = viz_4.set_index('district')\n",
    "viz_4.rename(columns={'cultural_heritage_site_count': 'Количество'}, inplace=True)\n",
    "viz_4.plot(kind='pie', y='Количество', title='Количество объектов культурного наследия', legend=False)"
   ]
  },
  {
   "cell_type": "markdown",
   "metadata": {},
   "source": [
    "#### Соотношение количества школ и детских садов с количеством населения"
   ]
  },
  {
   "cell_type": "code",
   "execution_count": 98,
   "metadata": {},
   "outputs": [
    {
     "data": {
      "application/vnd.plotly.v1+json": {
       "config": {
        "plotlyServerURL": "https://plot.ly"
       },
       "data": [
        {
         "hoverlabel": {
          "namelength": 0
         },
         "hovertemplate": "variable=Количество детских садов<br>Район=%{x}<br>value=%{y}",
         "legendgroup": "variable=Количество детских садов",
         "line": {
          "color": "#636efa",
          "dash": "solid"
         },
         "mode": "lines",
         "name": "variable=Количество детских садов",
         "showlegend": true,
         "type": "scatter",
         "x": [
          "Кронштадтский",
          "Курортный",
          "Петроградский",
          "Петродворцовый",
          "Адмиралтейский",
          "Колпинский",
          "Пушкинский",
          "Василеостровский",
          "Центральный",
          "Кировский",
          "Московский",
          "Красногвардейский",
          "Красносельский",
          "Фрунзенский",
          "Выборгский",
          "Невский",
          "Калининский",
          "Приморский"
         ],
         "xaxis": "x",
         "y": [
          15,
          15,
          54,
          30,
          43,
          48,
          45,
          40,
          66,
          86,
          71,
          66,
          76,
          92,
          72,
          111,
          100,
          77
         ],
         "yaxis": "y"
        },
        {
         "hoverlabel": {
          "namelength": 0
         },
         "hovertemplate": "variable=Количество школ<br>Район=%{x}<br>value=%{y}",
         "legendgroup": "variable=Количество школ",
         "line": {
          "color": "#EF553B",
          "dash": "solid"
         },
         "mode": "lines",
         "name": "variable=Количество школ",
         "showlegend": true,
         "type": "scatter",
         "x": [
          "Кронштадтский",
          "Курортный",
          "Петроградский",
          "Петродворцовый",
          "Адмиралтейский",
          "Колпинский",
          "Пушкинский",
          "Василеостровский",
          "Центральный",
          "Кировский",
          "Московский",
          "Красногвардейский",
          "Красносельский",
          "Фрунзенский",
          "Выборгский",
          "Невский",
          "Калининский",
          "Приморский"
         ],
         "xaxis": "x",
         "y": [
          22,
          34,
          20,
          19,
          76,
          30,
          64,
          25,
          43,
          47,
          37,
          45,
          98,
          56,
          66,
          70,
          114,
          65
         ],
         "yaxis": "y"
        },
        {
         "hoverlabel": {
          "namelength": 0
         },
         "hovertemplate": "variable=Население, тыс.чел.<br>Район=%{x}<br>value=%{y}",
         "legendgroup": "variable=Население, тыс.чел.",
         "line": {
          "color": "#00cc96",
          "dash": "solid"
         },
         "mode": "lines",
         "name": "variable=Население, тыс.чел.",
         "showlegend": true,
         "type": "scatter",
         "x": [
          "Кронштадтский",
          "Курортный",
          "Петроградский",
          "Петродворцовый",
          "Адмиралтейский",
          "Колпинский",
          "Пушкинский",
          "Василеостровский",
          "Центральный",
          "Кировский",
          "Московский",
          "Красногвардейский",
          "Красносельский",
          "Фрунзенский",
          "Выборгский",
          "Невский",
          "Калининский",
          "Приморский"
         ],
         "xaxis": "x",
         "y": [
          44.477,
          76.061,
          135.635,
          138.146,
          163.785,
          187.585,
          193.18,
          209.188,
          220.217,
          336.742,
          343.935,
          351.575,
          369.766,
          406.029,
          502.988,
          511.476,
          535.428,
          555.366
         ],
         "yaxis": "y"
        }
       ],
       "layout": {
        "height": 600,
        "legend": {
         "tracegroupgap": 0
        },
        "margin": {
         "t": 60
        },
        "template": {
         "data": {
          "bar": [
           {
            "error_x": {
             "color": "#2a3f5f"
            },
            "error_y": {
             "color": "#2a3f5f"
            },
            "marker": {
             "line": {
              "color": "#E5ECF6",
              "width": 0.5
             }
            },
            "type": "bar"
           }
          ],
          "barpolar": [
           {
            "marker": {
             "line": {
              "color": "#E5ECF6",
              "width": 0.5
             }
            },
            "type": "barpolar"
           }
          ],
          "carpet": [
           {
            "aaxis": {
             "endlinecolor": "#2a3f5f",
             "gridcolor": "white",
             "linecolor": "white",
             "minorgridcolor": "white",
             "startlinecolor": "#2a3f5f"
            },
            "baxis": {
             "endlinecolor": "#2a3f5f",
             "gridcolor": "white",
             "linecolor": "white",
             "minorgridcolor": "white",
             "startlinecolor": "#2a3f5f"
            },
            "type": "carpet"
           }
          ],
          "choropleth": [
           {
            "colorbar": {
             "outlinewidth": 0,
             "ticks": ""
            },
            "type": "choropleth"
           }
          ],
          "contour": [
           {
            "colorbar": {
             "outlinewidth": 0,
             "ticks": ""
            },
            "colorscale": [
             [
              0,
              "#0d0887"
             ],
             [
              0.1111111111111111,
              "#46039f"
             ],
             [
              0.2222222222222222,
              "#7201a8"
             ],
             [
              0.3333333333333333,
              "#9c179e"
             ],
             [
              0.4444444444444444,
              "#bd3786"
             ],
             [
              0.5555555555555556,
              "#d8576b"
             ],
             [
              0.6666666666666666,
              "#ed7953"
             ],
             [
              0.7777777777777778,
              "#fb9f3a"
             ],
             [
              0.8888888888888888,
              "#fdca26"
             ],
             [
              1,
              "#f0f921"
             ]
            ],
            "type": "contour"
           }
          ],
          "contourcarpet": [
           {
            "colorbar": {
             "outlinewidth": 0,
             "ticks": ""
            },
            "type": "contourcarpet"
           }
          ],
          "heatmap": [
           {
            "colorbar": {
             "outlinewidth": 0,
             "ticks": ""
            },
            "colorscale": [
             [
              0,
              "#0d0887"
             ],
             [
              0.1111111111111111,
              "#46039f"
             ],
             [
              0.2222222222222222,
              "#7201a8"
             ],
             [
              0.3333333333333333,
              "#9c179e"
             ],
             [
              0.4444444444444444,
              "#bd3786"
             ],
             [
              0.5555555555555556,
              "#d8576b"
             ],
             [
              0.6666666666666666,
              "#ed7953"
             ],
             [
              0.7777777777777778,
              "#fb9f3a"
             ],
             [
              0.8888888888888888,
              "#fdca26"
             ],
             [
              1,
              "#f0f921"
             ]
            ],
            "type": "heatmap"
           }
          ],
          "heatmapgl": [
           {
            "colorbar": {
             "outlinewidth": 0,
             "ticks": ""
            },
            "colorscale": [
             [
              0,
              "#0d0887"
             ],
             [
              0.1111111111111111,
              "#46039f"
             ],
             [
              0.2222222222222222,
              "#7201a8"
             ],
             [
              0.3333333333333333,
              "#9c179e"
             ],
             [
              0.4444444444444444,
              "#bd3786"
             ],
             [
              0.5555555555555556,
              "#d8576b"
             ],
             [
              0.6666666666666666,
              "#ed7953"
             ],
             [
              0.7777777777777778,
              "#fb9f3a"
             ],
             [
              0.8888888888888888,
              "#fdca26"
             ],
             [
              1,
              "#f0f921"
             ]
            ],
            "type": "heatmapgl"
           }
          ],
          "histogram": [
           {
            "marker": {
             "colorbar": {
              "outlinewidth": 0,
              "ticks": ""
             }
            },
            "type": "histogram"
           }
          ],
          "histogram2d": [
           {
            "colorbar": {
             "outlinewidth": 0,
             "ticks": ""
            },
            "colorscale": [
             [
              0,
              "#0d0887"
             ],
             [
              0.1111111111111111,
              "#46039f"
             ],
             [
              0.2222222222222222,
              "#7201a8"
             ],
             [
              0.3333333333333333,
              "#9c179e"
             ],
             [
              0.4444444444444444,
              "#bd3786"
             ],
             [
              0.5555555555555556,
              "#d8576b"
             ],
             [
              0.6666666666666666,
              "#ed7953"
             ],
             [
              0.7777777777777778,
              "#fb9f3a"
             ],
             [
              0.8888888888888888,
              "#fdca26"
             ],
             [
              1,
              "#f0f921"
             ]
            ],
            "type": "histogram2d"
           }
          ],
          "histogram2dcontour": [
           {
            "colorbar": {
             "outlinewidth": 0,
             "ticks": ""
            },
            "colorscale": [
             [
              0,
              "#0d0887"
             ],
             [
              0.1111111111111111,
              "#46039f"
             ],
             [
              0.2222222222222222,
              "#7201a8"
             ],
             [
              0.3333333333333333,
              "#9c179e"
             ],
             [
              0.4444444444444444,
              "#bd3786"
             ],
             [
              0.5555555555555556,
              "#d8576b"
             ],
             [
              0.6666666666666666,
              "#ed7953"
             ],
             [
              0.7777777777777778,
              "#fb9f3a"
             ],
             [
              0.8888888888888888,
              "#fdca26"
             ],
             [
              1,
              "#f0f921"
             ]
            ],
            "type": "histogram2dcontour"
           }
          ],
          "mesh3d": [
           {
            "colorbar": {
             "outlinewidth": 0,
             "ticks": ""
            },
            "type": "mesh3d"
           }
          ],
          "parcoords": [
           {
            "line": {
             "colorbar": {
              "outlinewidth": 0,
              "ticks": ""
             }
            },
            "type": "parcoords"
           }
          ],
          "scatter": [
           {
            "marker": {
             "colorbar": {
              "outlinewidth": 0,
              "ticks": ""
             }
            },
            "type": "scatter"
           }
          ],
          "scatter3d": [
           {
            "line": {
             "colorbar": {
              "outlinewidth": 0,
              "ticks": ""
             }
            },
            "marker": {
             "colorbar": {
              "outlinewidth": 0,
              "ticks": ""
             }
            },
            "type": "scatter3d"
           }
          ],
          "scattercarpet": [
           {
            "marker": {
             "colorbar": {
              "outlinewidth": 0,
              "ticks": ""
             }
            },
            "type": "scattercarpet"
           }
          ],
          "scattergeo": [
           {
            "marker": {
             "colorbar": {
              "outlinewidth": 0,
              "ticks": ""
             }
            },
            "type": "scattergeo"
           }
          ],
          "scattergl": [
           {
            "marker": {
             "colorbar": {
              "outlinewidth": 0,
              "ticks": ""
             }
            },
            "type": "scattergl"
           }
          ],
          "scattermapbox": [
           {
            "marker": {
             "colorbar": {
              "outlinewidth": 0,
              "ticks": ""
             }
            },
            "type": "scattermapbox"
           }
          ],
          "scatterpolar": [
           {
            "marker": {
             "colorbar": {
              "outlinewidth": 0,
              "ticks": ""
             }
            },
            "type": "scatterpolar"
           }
          ],
          "scatterpolargl": [
           {
            "marker": {
             "colorbar": {
              "outlinewidth": 0,
              "ticks": ""
             }
            },
            "type": "scatterpolargl"
           }
          ],
          "scatterternary": [
           {
            "marker": {
             "colorbar": {
              "outlinewidth": 0,
              "ticks": ""
             }
            },
            "type": "scatterternary"
           }
          ],
          "surface": [
           {
            "colorbar": {
             "outlinewidth": 0,
             "ticks": ""
            },
            "colorscale": [
             [
              0,
              "#0d0887"
             ],
             [
              0.1111111111111111,
              "#46039f"
             ],
             [
              0.2222222222222222,
              "#7201a8"
             ],
             [
              0.3333333333333333,
              "#9c179e"
             ],
             [
              0.4444444444444444,
              "#bd3786"
             ],
             [
              0.5555555555555556,
              "#d8576b"
             ],
             [
              0.6666666666666666,
              "#ed7953"
             ],
             [
              0.7777777777777778,
              "#fb9f3a"
             ],
             [
              0.8888888888888888,
              "#fdca26"
             ],
             [
              1,
              "#f0f921"
             ]
            ],
            "type": "surface"
           }
          ],
          "table": [
           {
            "cells": {
             "fill": {
              "color": "#EBF0F8"
             },
             "line": {
              "color": "white"
             }
            },
            "header": {
             "fill": {
              "color": "#C8D4E3"
             },
             "line": {
              "color": "white"
             }
            },
            "type": "table"
           }
          ]
         },
         "layout": {
          "annotationdefaults": {
           "arrowcolor": "#2a3f5f",
           "arrowhead": 0,
           "arrowwidth": 1
          },
          "colorscale": {
           "diverging": [
            [
             0,
             "#8e0152"
            ],
            [
             0.1,
             "#c51b7d"
            ],
            [
             0.2,
             "#de77ae"
            ],
            [
             0.3,
             "#f1b6da"
            ],
            [
             0.4,
             "#fde0ef"
            ],
            [
             0.5,
             "#f7f7f7"
            ],
            [
             0.6,
             "#e6f5d0"
            ],
            [
             0.7,
             "#b8e186"
            ],
            [
             0.8,
             "#7fbc41"
            ],
            [
             0.9,
             "#4d9221"
            ],
            [
             1,
             "#276419"
            ]
           ],
           "sequential": [
            [
             0,
             "#0d0887"
            ],
            [
             0.1111111111111111,
             "#46039f"
            ],
            [
             0.2222222222222222,
             "#7201a8"
            ],
            [
             0.3333333333333333,
             "#9c179e"
            ],
            [
             0.4444444444444444,
             "#bd3786"
            ],
            [
             0.5555555555555556,
             "#d8576b"
            ],
            [
             0.6666666666666666,
             "#ed7953"
            ],
            [
             0.7777777777777778,
             "#fb9f3a"
            ],
            [
             0.8888888888888888,
             "#fdca26"
            ],
            [
             1,
             "#f0f921"
            ]
           ],
           "sequentialminus": [
            [
             0,
             "#0d0887"
            ],
            [
             0.1111111111111111,
             "#46039f"
            ],
            [
             0.2222222222222222,
             "#7201a8"
            ],
            [
             0.3333333333333333,
             "#9c179e"
            ],
            [
             0.4444444444444444,
             "#bd3786"
            ],
            [
             0.5555555555555556,
             "#d8576b"
            ],
            [
             0.6666666666666666,
             "#ed7953"
            ],
            [
             0.7777777777777778,
             "#fb9f3a"
            ],
            [
             0.8888888888888888,
             "#fdca26"
            ],
            [
             1,
             "#f0f921"
            ]
           ]
          },
          "colorway": [
           "#636efa",
           "#EF553B",
           "#00cc96",
           "#ab63fa",
           "#FFA15A",
           "#19d3f3",
           "#FF6692",
           "#B6E880",
           "#FF97FF",
           "#FECB52"
          ],
          "font": {
           "color": "#2a3f5f"
          },
          "geo": {
           "bgcolor": "white",
           "lakecolor": "white",
           "landcolor": "#E5ECF6",
           "showlakes": true,
           "showland": true,
           "subunitcolor": "white"
          },
          "hoverlabel": {
           "align": "left"
          },
          "hovermode": "closest",
          "mapbox": {
           "style": "light"
          },
          "paper_bgcolor": "white",
          "plot_bgcolor": "#E5ECF6",
          "polar": {
           "angularaxis": {
            "gridcolor": "white",
            "linecolor": "white",
            "ticks": ""
           },
           "bgcolor": "#E5ECF6",
           "radialaxis": {
            "gridcolor": "white",
            "linecolor": "white",
            "ticks": ""
           }
          },
          "scene": {
           "xaxis": {
            "backgroundcolor": "#E5ECF6",
            "gridcolor": "white",
            "gridwidth": 2,
            "linecolor": "white",
            "showbackground": true,
            "ticks": "",
            "zerolinecolor": "white"
           },
           "yaxis": {
            "backgroundcolor": "#E5ECF6",
            "gridcolor": "white",
            "gridwidth": 2,
            "linecolor": "white",
            "showbackground": true,
            "ticks": "",
            "zerolinecolor": "white"
           },
           "zaxis": {
            "backgroundcolor": "#E5ECF6",
            "gridcolor": "white",
            "gridwidth": 2,
            "linecolor": "white",
            "showbackground": true,
            "ticks": "",
            "zerolinecolor": "white"
           }
          },
          "shapedefaults": {
           "line": {
            "color": "#2a3f5f"
           }
          },
          "ternary": {
           "aaxis": {
            "gridcolor": "white",
            "linecolor": "white",
            "ticks": ""
           },
           "baxis": {
            "gridcolor": "white",
            "linecolor": "white",
            "ticks": ""
           },
           "bgcolor": "#E5ECF6",
           "caxis": {
            "gridcolor": "white",
            "linecolor": "white",
            "ticks": ""
           }
          },
          "title": {
           "x": 0.05
          },
          "xaxis": {
           "automargin": true,
           "gridcolor": "white",
           "linecolor": "white",
           "ticks": "",
           "zerolinecolor": "white",
           "zerolinewidth": 2
          },
          "yaxis": {
           "automargin": true,
           "gridcolor": "white",
           "linecolor": "white",
           "ticks": "",
           "zerolinecolor": "white",
           "zerolinewidth": 2
          }
         }
        },
        "xaxis": {
         "anchor": "y",
         "domain": [
          0,
          0.98
         ],
         "title": {
          "text": "Район"
         }
        },
        "yaxis": {
         "anchor": "x",
         "domain": [
          0,
          1
         ],
         "title": {
          "text": "value"
         }
        }
       }
      },
      "text/html": [
       "<div>\n",
       "        \n",
       "        \n",
       "            <div id=\"c8257c91-6a4e-4afd-9d94-3b6d7da21e69\" class=\"plotly-graph-div\" style=\"height:600px; width:100%;\"></div>\n",
       "            <script type=\"text/javascript\">\n",
       "                require([\"plotly\"], function(Plotly) {\n",
       "                    window.PLOTLYENV=window.PLOTLYENV || {};\n",
       "                    \n",
       "                if (document.getElementById(\"c8257c91-6a4e-4afd-9d94-3b6d7da21e69\")) {\n",
       "                    Plotly.newPlot(\n",
       "                        'c8257c91-6a4e-4afd-9d94-3b6d7da21e69',\n",
       "                        [{\"hoverlabel\": {\"namelength\": 0}, \"hovertemplate\": \"variable=\\u041a\\u043e\\u043b\\u0438\\u0447\\u0435\\u0441\\u0442\\u0432\\u043e \\u0434\\u0435\\u0442\\u0441\\u043a\\u0438\\u0445 \\u0441\\u0430\\u0434\\u043e\\u0432<br>\\u0420\\u0430\\u0439\\u043e\\u043d=%{x}<br>value=%{y}\", \"legendgroup\": \"variable=\\u041a\\u043e\\u043b\\u0438\\u0447\\u0435\\u0441\\u0442\\u0432\\u043e \\u0434\\u0435\\u0442\\u0441\\u043a\\u0438\\u0445 \\u0441\\u0430\\u0434\\u043e\\u0432\", \"line\": {\"color\": \"#636efa\", \"dash\": \"solid\"}, \"mode\": \"lines\", \"name\": \"variable=\\u041a\\u043e\\u043b\\u0438\\u0447\\u0435\\u0441\\u0442\\u0432\\u043e \\u0434\\u0435\\u0442\\u0441\\u043a\\u0438\\u0445 \\u0441\\u0430\\u0434\\u043e\\u0432\", \"showlegend\": true, \"type\": \"scatter\", \"x\": [\"\\u041a\\u0440\\u043e\\u043d\\u0448\\u0442\\u0430\\u0434\\u0442\\u0441\\u043a\\u0438\\u0439\", \"\\u041a\\u0443\\u0440\\u043e\\u0440\\u0442\\u043d\\u044b\\u0439\", \"\\u041f\\u0435\\u0442\\u0440\\u043e\\u0433\\u0440\\u0430\\u0434\\u0441\\u043a\\u0438\\u0439\", \"\\u041f\\u0435\\u0442\\u0440\\u043e\\u0434\\u0432\\u043e\\u0440\\u0446\\u043e\\u0432\\u044b\\u0439\", \"\\u0410\\u0434\\u043c\\u0438\\u0440\\u0430\\u043b\\u0442\\u0435\\u0439\\u0441\\u043a\\u0438\\u0439\", \"\\u041a\\u043e\\u043b\\u043f\\u0438\\u043d\\u0441\\u043a\\u0438\\u0439\", \"\\u041f\\u0443\\u0448\\u043a\\u0438\\u043d\\u0441\\u043a\\u0438\\u0439\", \"\\u0412\\u0430\\u0441\\u0438\\u043b\\u0435\\u043e\\u0441\\u0442\\u0440\\u043e\\u0432\\u0441\\u043a\\u0438\\u0439\", \"\\u0426\\u0435\\u043d\\u0442\\u0440\\u0430\\u043b\\u044c\\u043d\\u044b\\u0439\", \"\\u041a\\u0438\\u0440\\u043e\\u0432\\u0441\\u043a\\u0438\\u0439\", \"\\u041c\\u043e\\u0441\\u043a\\u043e\\u0432\\u0441\\u043a\\u0438\\u0439\", \"\\u041a\\u0440\\u0430\\u0441\\u043d\\u043e\\u0433\\u0432\\u0430\\u0440\\u0434\\u0435\\u0439\\u0441\\u043a\\u0438\\u0439\", \"\\u041a\\u0440\\u0430\\u0441\\u043d\\u043e\\u0441\\u0435\\u043b\\u044c\\u0441\\u043a\\u0438\\u0439\", \"\\u0424\\u0440\\u0443\\u043d\\u0437\\u0435\\u043d\\u0441\\u043a\\u0438\\u0439\", \"\\u0412\\u044b\\u0431\\u043e\\u0440\\u0433\\u0441\\u043a\\u0438\\u0439\", \"\\u041d\\u0435\\u0432\\u0441\\u043a\\u0438\\u0439\", \"\\u041a\\u0430\\u043b\\u0438\\u043d\\u0438\\u043d\\u0441\\u043a\\u0438\\u0439\", \"\\u041f\\u0440\\u0438\\u043c\\u043e\\u0440\\u0441\\u043a\\u0438\\u0439\"], \"xaxis\": \"x\", \"y\": [15.0, 15.0, 54.0, 30.0, 43.0, 48.0, 45.0, 40.0, 66.0, 86.0, 71.0, 66.0, 76.0, 92.0, 72.0, 111.0, 100.0, 77.0], \"yaxis\": \"y\"}, {\"hoverlabel\": {\"namelength\": 0}, \"hovertemplate\": \"variable=\\u041a\\u043e\\u043b\\u0438\\u0447\\u0435\\u0441\\u0442\\u0432\\u043e \\u0448\\u043a\\u043e\\u043b<br>\\u0420\\u0430\\u0439\\u043e\\u043d=%{x}<br>value=%{y}\", \"legendgroup\": \"variable=\\u041a\\u043e\\u043b\\u0438\\u0447\\u0435\\u0441\\u0442\\u0432\\u043e \\u0448\\u043a\\u043e\\u043b\", \"line\": {\"color\": \"#EF553B\", \"dash\": \"solid\"}, \"mode\": \"lines\", \"name\": \"variable=\\u041a\\u043e\\u043b\\u0438\\u0447\\u0435\\u0441\\u0442\\u0432\\u043e \\u0448\\u043a\\u043e\\u043b\", \"showlegend\": true, \"type\": \"scatter\", \"x\": [\"\\u041a\\u0440\\u043e\\u043d\\u0448\\u0442\\u0430\\u0434\\u0442\\u0441\\u043a\\u0438\\u0439\", \"\\u041a\\u0443\\u0440\\u043e\\u0440\\u0442\\u043d\\u044b\\u0439\", \"\\u041f\\u0435\\u0442\\u0440\\u043e\\u0433\\u0440\\u0430\\u0434\\u0441\\u043a\\u0438\\u0439\", \"\\u041f\\u0435\\u0442\\u0440\\u043e\\u0434\\u0432\\u043e\\u0440\\u0446\\u043e\\u0432\\u044b\\u0439\", \"\\u0410\\u0434\\u043c\\u0438\\u0440\\u0430\\u043b\\u0442\\u0435\\u0439\\u0441\\u043a\\u0438\\u0439\", \"\\u041a\\u043e\\u043b\\u043f\\u0438\\u043d\\u0441\\u043a\\u0438\\u0439\", \"\\u041f\\u0443\\u0448\\u043a\\u0438\\u043d\\u0441\\u043a\\u0438\\u0439\", \"\\u0412\\u0430\\u0441\\u0438\\u043b\\u0435\\u043e\\u0441\\u0442\\u0440\\u043e\\u0432\\u0441\\u043a\\u0438\\u0439\", \"\\u0426\\u0435\\u043d\\u0442\\u0440\\u0430\\u043b\\u044c\\u043d\\u044b\\u0439\", \"\\u041a\\u0438\\u0440\\u043e\\u0432\\u0441\\u043a\\u0438\\u0439\", \"\\u041c\\u043e\\u0441\\u043a\\u043e\\u0432\\u0441\\u043a\\u0438\\u0439\", \"\\u041a\\u0440\\u0430\\u0441\\u043d\\u043e\\u0433\\u0432\\u0430\\u0440\\u0434\\u0435\\u0439\\u0441\\u043a\\u0438\\u0439\", \"\\u041a\\u0440\\u0430\\u0441\\u043d\\u043e\\u0441\\u0435\\u043b\\u044c\\u0441\\u043a\\u0438\\u0439\", \"\\u0424\\u0440\\u0443\\u043d\\u0437\\u0435\\u043d\\u0441\\u043a\\u0438\\u0439\", \"\\u0412\\u044b\\u0431\\u043e\\u0440\\u0433\\u0441\\u043a\\u0438\\u0439\", \"\\u041d\\u0435\\u0432\\u0441\\u043a\\u0438\\u0439\", \"\\u041a\\u0430\\u043b\\u0438\\u043d\\u0438\\u043d\\u0441\\u043a\\u0438\\u0439\", \"\\u041f\\u0440\\u0438\\u043c\\u043e\\u0440\\u0441\\u043a\\u0438\\u0439\"], \"xaxis\": \"x\", \"y\": [22.0, 34.0, 20.0, 19.0, 76.0, 30.0, 64.0, 25.0, 43.0, 47.0, 37.0, 45.0, 98.0, 56.0, 66.0, 70.0, 114.0, 65.0], \"yaxis\": \"y\"}, {\"hoverlabel\": {\"namelength\": 0}, \"hovertemplate\": \"variable=\\u041d\\u0430\\u0441\\u0435\\u043b\\u0435\\u043d\\u0438\\u0435, \\u0442\\u044b\\u0441.\\u0447\\u0435\\u043b.<br>\\u0420\\u0430\\u0439\\u043e\\u043d=%{x}<br>value=%{y}\", \"legendgroup\": \"variable=\\u041d\\u0430\\u0441\\u0435\\u043b\\u0435\\u043d\\u0438\\u0435, \\u0442\\u044b\\u0441.\\u0447\\u0435\\u043b.\", \"line\": {\"color\": \"#00cc96\", \"dash\": \"solid\"}, \"mode\": \"lines\", \"name\": \"variable=\\u041d\\u0430\\u0441\\u0435\\u043b\\u0435\\u043d\\u0438\\u0435, \\u0442\\u044b\\u0441.\\u0447\\u0435\\u043b.\", \"showlegend\": true, \"type\": \"scatter\", \"x\": [\"\\u041a\\u0440\\u043e\\u043d\\u0448\\u0442\\u0430\\u0434\\u0442\\u0441\\u043a\\u0438\\u0439\", \"\\u041a\\u0443\\u0440\\u043e\\u0440\\u0442\\u043d\\u044b\\u0439\", \"\\u041f\\u0435\\u0442\\u0440\\u043e\\u0433\\u0440\\u0430\\u0434\\u0441\\u043a\\u0438\\u0439\", \"\\u041f\\u0435\\u0442\\u0440\\u043e\\u0434\\u0432\\u043e\\u0440\\u0446\\u043e\\u0432\\u044b\\u0439\", \"\\u0410\\u0434\\u043c\\u0438\\u0440\\u0430\\u043b\\u0442\\u0435\\u0439\\u0441\\u043a\\u0438\\u0439\", \"\\u041a\\u043e\\u043b\\u043f\\u0438\\u043d\\u0441\\u043a\\u0438\\u0439\", \"\\u041f\\u0443\\u0448\\u043a\\u0438\\u043d\\u0441\\u043a\\u0438\\u0439\", \"\\u0412\\u0430\\u0441\\u0438\\u043b\\u0435\\u043e\\u0441\\u0442\\u0440\\u043e\\u0432\\u0441\\u043a\\u0438\\u0439\", \"\\u0426\\u0435\\u043d\\u0442\\u0440\\u0430\\u043b\\u044c\\u043d\\u044b\\u0439\", \"\\u041a\\u0438\\u0440\\u043e\\u0432\\u0441\\u043a\\u0438\\u0439\", \"\\u041c\\u043e\\u0441\\u043a\\u043e\\u0432\\u0441\\u043a\\u0438\\u0439\", \"\\u041a\\u0440\\u0430\\u0441\\u043d\\u043e\\u0433\\u0432\\u0430\\u0440\\u0434\\u0435\\u0439\\u0441\\u043a\\u0438\\u0439\", \"\\u041a\\u0440\\u0430\\u0441\\u043d\\u043e\\u0441\\u0435\\u043b\\u044c\\u0441\\u043a\\u0438\\u0439\", \"\\u0424\\u0440\\u0443\\u043d\\u0437\\u0435\\u043d\\u0441\\u043a\\u0438\\u0439\", \"\\u0412\\u044b\\u0431\\u043e\\u0440\\u0433\\u0441\\u043a\\u0438\\u0439\", \"\\u041d\\u0435\\u0432\\u0441\\u043a\\u0438\\u0439\", \"\\u041a\\u0430\\u043b\\u0438\\u043d\\u0438\\u043d\\u0441\\u043a\\u0438\\u0439\", \"\\u041f\\u0440\\u0438\\u043c\\u043e\\u0440\\u0441\\u043a\\u0438\\u0439\"], \"xaxis\": \"x\", \"y\": [44.477, 76.061, 135.635, 138.146, 163.785, 187.585, 193.18, 209.188, 220.217, 336.742, 343.935, 351.575, 369.766, 406.029, 502.988, 511.476, 535.428, 555.366], \"yaxis\": \"y\"}],\n",
       "                        {\"height\": 600, \"legend\": {\"tracegroupgap\": 0}, \"margin\": {\"t\": 60}, \"template\": {\"data\": {\"bar\": [{\"error_x\": {\"color\": \"#2a3f5f\"}, \"error_y\": {\"color\": \"#2a3f5f\"}, \"marker\": {\"line\": {\"color\": \"#E5ECF6\", \"width\": 0.5}}, \"type\": \"bar\"}], \"barpolar\": [{\"marker\": {\"line\": {\"color\": \"#E5ECF6\", \"width\": 0.5}}, \"type\": \"barpolar\"}], \"carpet\": [{\"aaxis\": {\"endlinecolor\": \"#2a3f5f\", \"gridcolor\": \"white\", \"linecolor\": \"white\", \"minorgridcolor\": \"white\", \"startlinecolor\": \"#2a3f5f\"}, \"baxis\": {\"endlinecolor\": \"#2a3f5f\", \"gridcolor\": \"white\", \"linecolor\": \"white\", \"minorgridcolor\": \"white\", \"startlinecolor\": \"#2a3f5f\"}, \"type\": \"carpet\"}], \"choropleth\": [{\"colorbar\": {\"outlinewidth\": 0, \"ticks\": \"\"}, \"type\": \"choropleth\"}], \"contour\": [{\"colorbar\": {\"outlinewidth\": 0, \"ticks\": \"\"}, \"colorscale\": [[0.0, \"#0d0887\"], [0.1111111111111111, \"#46039f\"], [0.2222222222222222, \"#7201a8\"], [0.3333333333333333, \"#9c179e\"], [0.4444444444444444, \"#bd3786\"], [0.5555555555555556, \"#d8576b\"], [0.6666666666666666, \"#ed7953\"], [0.7777777777777778, \"#fb9f3a\"], [0.8888888888888888, \"#fdca26\"], [1.0, \"#f0f921\"]], \"type\": \"contour\"}], \"contourcarpet\": [{\"colorbar\": {\"outlinewidth\": 0, \"ticks\": \"\"}, \"type\": \"contourcarpet\"}], \"heatmap\": [{\"colorbar\": {\"outlinewidth\": 0, \"ticks\": \"\"}, \"colorscale\": [[0.0, \"#0d0887\"], [0.1111111111111111, \"#46039f\"], [0.2222222222222222, \"#7201a8\"], [0.3333333333333333, \"#9c179e\"], [0.4444444444444444, \"#bd3786\"], [0.5555555555555556, \"#d8576b\"], [0.6666666666666666, \"#ed7953\"], [0.7777777777777778, \"#fb9f3a\"], [0.8888888888888888, \"#fdca26\"], [1.0, \"#f0f921\"]], \"type\": \"heatmap\"}], \"heatmapgl\": [{\"colorbar\": {\"outlinewidth\": 0, \"ticks\": \"\"}, \"colorscale\": [[0.0, \"#0d0887\"], [0.1111111111111111, \"#46039f\"], [0.2222222222222222, \"#7201a8\"], [0.3333333333333333, \"#9c179e\"], [0.4444444444444444, \"#bd3786\"], [0.5555555555555556, \"#d8576b\"], [0.6666666666666666, \"#ed7953\"], [0.7777777777777778, \"#fb9f3a\"], [0.8888888888888888, \"#fdca26\"], [1.0, \"#f0f921\"]], \"type\": \"heatmapgl\"}], \"histogram\": [{\"marker\": {\"colorbar\": {\"outlinewidth\": 0, \"ticks\": \"\"}}, \"type\": \"histogram\"}], \"histogram2d\": [{\"colorbar\": {\"outlinewidth\": 0, \"ticks\": \"\"}, \"colorscale\": [[0.0, \"#0d0887\"], [0.1111111111111111, \"#46039f\"], [0.2222222222222222, \"#7201a8\"], [0.3333333333333333, \"#9c179e\"], [0.4444444444444444, \"#bd3786\"], [0.5555555555555556, \"#d8576b\"], [0.6666666666666666, \"#ed7953\"], [0.7777777777777778, \"#fb9f3a\"], [0.8888888888888888, \"#fdca26\"], [1.0, \"#f0f921\"]], \"type\": \"histogram2d\"}], \"histogram2dcontour\": [{\"colorbar\": {\"outlinewidth\": 0, \"ticks\": \"\"}, \"colorscale\": [[0.0, \"#0d0887\"], [0.1111111111111111, \"#46039f\"], [0.2222222222222222, \"#7201a8\"], [0.3333333333333333, \"#9c179e\"], [0.4444444444444444, \"#bd3786\"], [0.5555555555555556, \"#d8576b\"], [0.6666666666666666, \"#ed7953\"], [0.7777777777777778, \"#fb9f3a\"], [0.8888888888888888, \"#fdca26\"], [1.0, \"#f0f921\"]], \"type\": \"histogram2dcontour\"}], \"mesh3d\": [{\"colorbar\": {\"outlinewidth\": 0, \"ticks\": \"\"}, \"type\": \"mesh3d\"}], \"parcoords\": [{\"line\": {\"colorbar\": {\"outlinewidth\": 0, \"ticks\": \"\"}}, \"type\": \"parcoords\"}], \"scatter\": [{\"marker\": {\"colorbar\": {\"outlinewidth\": 0, \"ticks\": \"\"}}, \"type\": \"scatter\"}], \"scatter3d\": [{\"line\": {\"colorbar\": {\"outlinewidth\": 0, \"ticks\": \"\"}}, \"marker\": {\"colorbar\": {\"outlinewidth\": 0, \"ticks\": \"\"}}, \"type\": \"scatter3d\"}], \"scattercarpet\": [{\"marker\": {\"colorbar\": {\"outlinewidth\": 0, \"ticks\": \"\"}}, \"type\": \"scattercarpet\"}], \"scattergeo\": [{\"marker\": {\"colorbar\": {\"outlinewidth\": 0, \"ticks\": \"\"}}, \"type\": \"scattergeo\"}], \"scattergl\": [{\"marker\": {\"colorbar\": {\"outlinewidth\": 0, \"ticks\": \"\"}}, \"type\": \"scattergl\"}], \"scattermapbox\": [{\"marker\": {\"colorbar\": {\"outlinewidth\": 0, \"ticks\": \"\"}}, \"type\": \"scattermapbox\"}], \"scatterpolar\": [{\"marker\": {\"colorbar\": {\"outlinewidth\": 0, \"ticks\": \"\"}}, \"type\": \"scatterpolar\"}], \"scatterpolargl\": [{\"marker\": {\"colorbar\": {\"outlinewidth\": 0, \"ticks\": \"\"}}, \"type\": \"scatterpolargl\"}], \"scatterternary\": [{\"marker\": {\"colorbar\": {\"outlinewidth\": 0, \"ticks\": \"\"}}, \"type\": \"scatterternary\"}], \"surface\": [{\"colorbar\": {\"outlinewidth\": 0, \"ticks\": \"\"}, \"colorscale\": [[0.0, \"#0d0887\"], [0.1111111111111111, \"#46039f\"], [0.2222222222222222, \"#7201a8\"], [0.3333333333333333, \"#9c179e\"], [0.4444444444444444, \"#bd3786\"], [0.5555555555555556, \"#d8576b\"], [0.6666666666666666, \"#ed7953\"], [0.7777777777777778, \"#fb9f3a\"], [0.8888888888888888, \"#fdca26\"], [1.0, \"#f0f921\"]], \"type\": \"surface\"}], \"table\": [{\"cells\": {\"fill\": {\"color\": \"#EBF0F8\"}, \"line\": {\"color\": \"white\"}}, \"header\": {\"fill\": {\"color\": \"#C8D4E3\"}, \"line\": {\"color\": \"white\"}}, \"type\": \"table\"}]}, \"layout\": {\"annotationdefaults\": {\"arrowcolor\": \"#2a3f5f\", \"arrowhead\": 0, \"arrowwidth\": 1}, \"colorscale\": {\"diverging\": [[0, \"#8e0152\"], [0.1, \"#c51b7d\"], [0.2, \"#de77ae\"], [0.3, \"#f1b6da\"], [0.4, \"#fde0ef\"], [0.5, \"#f7f7f7\"], [0.6, \"#e6f5d0\"], [0.7, \"#b8e186\"], [0.8, \"#7fbc41\"], [0.9, \"#4d9221\"], [1, \"#276419\"]], \"sequential\": [[0.0, \"#0d0887\"], [0.1111111111111111, \"#46039f\"], [0.2222222222222222, \"#7201a8\"], [0.3333333333333333, \"#9c179e\"], [0.4444444444444444, \"#bd3786\"], [0.5555555555555556, \"#d8576b\"], [0.6666666666666666, \"#ed7953\"], [0.7777777777777778, \"#fb9f3a\"], [0.8888888888888888, \"#fdca26\"], [1.0, \"#f0f921\"]], \"sequentialminus\": [[0.0, \"#0d0887\"], [0.1111111111111111, \"#46039f\"], [0.2222222222222222, \"#7201a8\"], [0.3333333333333333, \"#9c179e\"], [0.4444444444444444, \"#bd3786\"], [0.5555555555555556, \"#d8576b\"], [0.6666666666666666, \"#ed7953\"], [0.7777777777777778, \"#fb9f3a\"], [0.8888888888888888, \"#fdca26\"], [1.0, \"#f0f921\"]]}, \"colorway\": [\"#636efa\", \"#EF553B\", \"#00cc96\", \"#ab63fa\", \"#FFA15A\", \"#19d3f3\", \"#FF6692\", \"#B6E880\", \"#FF97FF\", \"#FECB52\"], \"font\": {\"color\": \"#2a3f5f\"}, \"geo\": {\"bgcolor\": \"white\", \"lakecolor\": \"white\", \"landcolor\": \"#E5ECF6\", \"showlakes\": true, \"showland\": true, \"subunitcolor\": \"white\"}, \"hoverlabel\": {\"align\": \"left\"}, \"hovermode\": \"closest\", \"mapbox\": {\"style\": \"light\"}, \"paper_bgcolor\": \"white\", \"plot_bgcolor\": \"#E5ECF6\", \"polar\": {\"angularaxis\": {\"gridcolor\": \"white\", \"linecolor\": \"white\", \"ticks\": \"\"}, \"bgcolor\": \"#E5ECF6\", \"radialaxis\": {\"gridcolor\": \"white\", \"linecolor\": \"white\", \"ticks\": \"\"}}, \"scene\": {\"xaxis\": {\"backgroundcolor\": \"#E5ECF6\", \"gridcolor\": \"white\", \"gridwidth\": 2, \"linecolor\": \"white\", \"showbackground\": true, \"ticks\": \"\", \"zerolinecolor\": \"white\"}, \"yaxis\": {\"backgroundcolor\": \"#E5ECF6\", \"gridcolor\": \"white\", \"gridwidth\": 2, \"linecolor\": \"white\", \"showbackground\": true, \"ticks\": \"\", \"zerolinecolor\": \"white\"}, \"zaxis\": {\"backgroundcolor\": \"#E5ECF6\", \"gridcolor\": \"white\", \"gridwidth\": 2, \"linecolor\": \"white\", \"showbackground\": true, \"ticks\": \"\", \"zerolinecolor\": \"white\"}}, \"shapedefaults\": {\"line\": {\"color\": \"#2a3f5f\"}}, \"ternary\": {\"aaxis\": {\"gridcolor\": \"white\", \"linecolor\": \"white\", \"ticks\": \"\"}, \"baxis\": {\"gridcolor\": \"white\", \"linecolor\": \"white\", \"ticks\": \"\"}, \"bgcolor\": \"#E5ECF6\", \"caxis\": {\"gridcolor\": \"white\", \"linecolor\": \"white\", \"ticks\": \"\"}}, \"title\": {\"x\": 0.05}, \"xaxis\": {\"automargin\": true, \"gridcolor\": \"white\", \"linecolor\": \"white\", \"ticks\": \"\", \"zerolinecolor\": \"white\", \"zerolinewidth\": 2}, \"yaxis\": {\"automargin\": true, \"gridcolor\": \"white\", \"linecolor\": \"white\", \"ticks\": \"\", \"zerolinecolor\": \"white\", \"zerolinewidth\": 2}}}, \"xaxis\": {\"anchor\": \"y\", \"domain\": [0.0, 0.98], \"title\": {\"text\": \"\\u0420\\u0430\\u0439\\u043e\\u043d\"}}, \"yaxis\": {\"anchor\": \"x\", \"domain\": [0.0, 1.0], \"title\": {\"text\": \"value\"}}},\n",
       "                        {\"responsive\": true}\n",
       "                    ).then(function(){\n",
       "                            \n",
       "var gd = document.getElementById('c8257c91-6a4e-4afd-9d94-3b6d7da21e69');\n",
       "var x = new MutationObserver(function (mutations, observer) {{\n",
       "        var display = window.getComputedStyle(gd).display;\n",
       "        if (!display || display === 'none') {{\n",
       "            console.log([gd, 'removed!']);\n",
       "            Plotly.purge(gd);\n",
       "            observer.disconnect();\n",
       "        }}\n",
       "}});\n",
       "\n",
       "// Listen for the removal of the full notebook cells\n",
       "var notebookContainer = gd.closest('#notebook-container');\n",
       "if (notebookContainer) {{\n",
       "    x.observe(notebookContainer, {childList: true});\n",
       "}}\n",
       "\n",
       "// Listen for the clearing of the current output cell\n",
       "var outputEl = gd.closest('.output');\n",
       "if (outputEl) {{\n",
       "    x.observe(outputEl, {childList: true});\n",
       "}}\n",
       "\n",
       "                        })\n",
       "                };\n",
       "                });\n",
       "            </script>\n",
       "        </div>"
      ]
     },
     "metadata": {},
     "output_type": "display_data"
    }
   ],
   "source": [
    "import plotly.express as px\n",
    "\n",
    "viz_5 = df_4[['district', 'population', 'kindergarten_count', 'school_count']]\n",
    "viz_5 = viz_5.sort_values(by=['population'])\n",
    "viz_5['population'] = viz_5['population'] / 1000\n",
    "viz_5.rename(columns={'school_count': 'Количество школ', 'district': 'Район',\n",
    "                      'kindergarten_count': 'Количество детских садов', 'population': 'Население, тыс.чел.'}, inplace=True)\n",
    "\n",
    "df_melt = viz_5.melt(id_vars='Район', value_vars=['Количество детских садов', 'Количество школ', 'Население, тыс.чел.'])\n",
    "\n",
    "px.line(df_melt, x='Район' , y='value' , color='variable')"
   ]
  },
  {
   "cell_type": "code",
   "execution_count": null,
   "metadata": {},
   "outputs": [],
   "source": []
  }
 ],
 "metadata": {
  "kernelspec": {
   "display_name": "Python 3",
   "language": "python",
   "name": "python3"
  },
  "language_info": {
   "codemirror_mode": {
    "name": "ipython",
    "version": 3
   },
   "file_extension": ".py",
   "mimetype": "text/x-python",
   "name": "python",
   "nbconvert_exporter": "python",
   "pygments_lexer": "ipython3",
   "version": "3.7.3"
  }
 },
 "nbformat": 4,
 "nbformat_minor": 2
}
